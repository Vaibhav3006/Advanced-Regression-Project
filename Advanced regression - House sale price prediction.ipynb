{
 "cells": [
  {
   "cell_type": "markdown",
   "metadata": {},
   "source": [
    "# Advance House Prediction"
   ]
  },
  {
   "cell_type": "markdown",
   "metadata": {},
   "source": [
    "## Problem Statement"
   ]
  },
  {
   "cell_type": "markdown",
   "metadata": {},
   "source": [
    "<font size = '4'> Predicting the sale price of the houses based on certain features</font>"
   ]
  },
  {
   "cell_type": "code",
   "execution_count": null,
   "metadata": {},
   "outputs": [],
   "source": []
  },
  {
   "cell_type": "markdown",
   "metadata": {},
   "source": [
    "### Importing Libraries"
   ]
  },
  {
   "cell_type": "code",
   "execution_count": 1,
   "metadata": {
    "ExecuteTime": {
     "end_time": "2020-04-04T14:23:35.481911Z",
     "start_time": "2020-04-04T14:22:55.916087Z"
    }
   },
   "outputs": [],
   "source": [
    "import pandas as pd\n",
    "import numpy as np\n",
    "import matplotlib.pyplot as plt\n",
    "import seaborn as sns\n",
    "%matplotlib inline\n"
   ]
  },
  {
   "cell_type": "code",
   "execution_count": 16,
   "metadata": {
    "ExecuteTime": {
     "end_time": "2020-04-04T14:41:08.415422Z",
     "start_time": "2020-04-04T14:41:08.412424Z"
    }
   },
   "outputs": [],
   "source": [
    "sns.set(style= \"whitegrid\", font_scale=1.3)"
   ]
  },
  {
   "cell_type": "code",
   "execution_count": 2,
   "metadata": {
    "ExecuteTime": {
     "end_time": "2020-04-04T14:23:35.487561Z",
     "start_time": "2020-04-04T14:23:35.483562Z"
    }
   },
   "outputs": [],
   "source": [
    "import warnings \n",
    "warnings.filterwarnings('ignore')"
   ]
  },
  {
   "cell_type": "code",
   "execution_count": null,
   "metadata": {},
   "outputs": [],
   "source": []
  },
  {
   "cell_type": "markdown",
   "metadata": {},
   "source": [
    "## Loading and Analysing the Dataset"
   ]
  },
  {
   "cell_type": "code",
   "execution_count": 3,
   "metadata": {
    "ExecuteTime": {
     "end_time": "2020-04-04T14:23:36.161726Z",
     "start_time": "2020-04-04T14:23:35.490559Z"
    }
   },
   "outputs": [],
   "source": [
    "df = pd.read_csv('train.csv')\n",
    "dftest = pd.read_csv('test.csv')"
   ]
  },
  {
   "cell_type": "code",
   "execution_count": 4,
   "metadata": {
    "ExecuteTime": {
     "end_time": "2020-04-04T14:23:36.550652Z",
     "start_time": "2020-04-04T14:23:36.164691Z"
    }
   },
   "outputs": [
    {
     "data": {
      "text/html": [
       "<div>\n",
       "<style scoped>\n",
       "    .dataframe tbody tr th:only-of-type {\n",
       "        vertical-align: middle;\n",
       "    }\n",
       "\n",
       "    .dataframe tbody tr th {\n",
       "        vertical-align: top;\n",
       "    }\n",
       "\n",
       "    .dataframe thead th {\n",
       "        text-align: right;\n",
       "    }\n",
       "</style>\n",
       "<table border=\"1\" class=\"dataframe\">\n",
       "  <thead>\n",
       "    <tr style=\"text-align: right;\">\n",
       "      <th></th>\n",
       "      <th>Id</th>\n",
       "      <th>MSSubClass</th>\n",
       "      <th>MSZoning</th>\n",
       "      <th>LotFrontage</th>\n",
       "      <th>LotArea</th>\n",
       "      <th>Street</th>\n",
       "      <th>Alley</th>\n",
       "      <th>LotShape</th>\n",
       "      <th>LandContour</th>\n",
       "      <th>Utilities</th>\n",
       "      <th>...</th>\n",
       "      <th>PoolArea</th>\n",
       "      <th>PoolQC</th>\n",
       "      <th>Fence</th>\n",
       "      <th>MiscFeature</th>\n",
       "      <th>MiscVal</th>\n",
       "      <th>MoSold</th>\n",
       "      <th>YrSold</th>\n",
       "      <th>SaleType</th>\n",
       "      <th>SaleCondition</th>\n",
       "      <th>SalePrice</th>\n",
       "    </tr>\n",
       "  </thead>\n",
       "  <tbody>\n",
       "    <tr>\n",
       "      <th>0</th>\n",
       "      <td>1</td>\n",
       "      <td>60</td>\n",
       "      <td>RL</td>\n",
       "      <td>65.0</td>\n",
       "      <td>8450</td>\n",
       "      <td>Pave</td>\n",
       "      <td>NaN</td>\n",
       "      <td>Reg</td>\n",
       "      <td>Lvl</td>\n",
       "      <td>AllPub</td>\n",
       "      <td>...</td>\n",
       "      <td>0</td>\n",
       "      <td>NaN</td>\n",
       "      <td>NaN</td>\n",
       "      <td>NaN</td>\n",
       "      <td>0</td>\n",
       "      <td>2</td>\n",
       "      <td>2008</td>\n",
       "      <td>WD</td>\n",
       "      <td>Normal</td>\n",
       "      <td>208500</td>\n",
       "    </tr>\n",
       "    <tr>\n",
       "      <th>1</th>\n",
       "      <td>2</td>\n",
       "      <td>20</td>\n",
       "      <td>RL</td>\n",
       "      <td>80.0</td>\n",
       "      <td>9600</td>\n",
       "      <td>Pave</td>\n",
       "      <td>NaN</td>\n",
       "      <td>Reg</td>\n",
       "      <td>Lvl</td>\n",
       "      <td>AllPub</td>\n",
       "      <td>...</td>\n",
       "      <td>0</td>\n",
       "      <td>NaN</td>\n",
       "      <td>NaN</td>\n",
       "      <td>NaN</td>\n",
       "      <td>0</td>\n",
       "      <td>5</td>\n",
       "      <td>2007</td>\n",
       "      <td>WD</td>\n",
       "      <td>Normal</td>\n",
       "      <td>181500</td>\n",
       "    </tr>\n",
       "    <tr>\n",
       "      <th>2</th>\n",
       "      <td>3</td>\n",
       "      <td>60</td>\n",
       "      <td>RL</td>\n",
       "      <td>68.0</td>\n",
       "      <td>11250</td>\n",
       "      <td>Pave</td>\n",
       "      <td>NaN</td>\n",
       "      <td>IR1</td>\n",
       "      <td>Lvl</td>\n",
       "      <td>AllPub</td>\n",
       "      <td>...</td>\n",
       "      <td>0</td>\n",
       "      <td>NaN</td>\n",
       "      <td>NaN</td>\n",
       "      <td>NaN</td>\n",
       "      <td>0</td>\n",
       "      <td>9</td>\n",
       "      <td>2008</td>\n",
       "      <td>WD</td>\n",
       "      <td>Normal</td>\n",
       "      <td>223500</td>\n",
       "    </tr>\n",
       "    <tr>\n",
       "      <th>3</th>\n",
       "      <td>4</td>\n",
       "      <td>70</td>\n",
       "      <td>RL</td>\n",
       "      <td>60.0</td>\n",
       "      <td>9550</td>\n",
       "      <td>Pave</td>\n",
       "      <td>NaN</td>\n",
       "      <td>IR1</td>\n",
       "      <td>Lvl</td>\n",
       "      <td>AllPub</td>\n",
       "      <td>...</td>\n",
       "      <td>0</td>\n",
       "      <td>NaN</td>\n",
       "      <td>NaN</td>\n",
       "      <td>NaN</td>\n",
       "      <td>0</td>\n",
       "      <td>2</td>\n",
       "      <td>2006</td>\n",
       "      <td>WD</td>\n",
       "      <td>Abnorml</td>\n",
       "      <td>140000</td>\n",
       "    </tr>\n",
       "    <tr>\n",
       "      <th>4</th>\n",
       "      <td>5</td>\n",
       "      <td>60</td>\n",
       "      <td>RL</td>\n",
       "      <td>84.0</td>\n",
       "      <td>14260</td>\n",
       "      <td>Pave</td>\n",
       "      <td>NaN</td>\n",
       "      <td>IR1</td>\n",
       "      <td>Lvl</td>\n",
       "      <td>AllPub</td>\n",
       "      <td>...</td>\n",
       "      <td>0</td>\n",
       "      <td>NaN</td>\n",
       "      <td>NaN</td>\n",
       "      <td>NaN</td>\n",
       "      <td>0</td>\n",
       "      <td>12</td>\n",
       "      <td>2008</td>\n",
       "      <td>WD</td>\n",
       "      <td>Normal</td>\n",
       "      <td>250000</td>\n",
       "    </tr>\n",
       "  </tbody>\n",
       "</table>\n",
       "<p>5 rows × 81 columns</p>\n",
       "</div>"
      ],
      "text/plain": [
       "   Id  MSSubClass MSZoning  LotFrontage  LotArea Street Alley LotShape  \\\n",
       "0   1          60       RL         65.0     8450   Pave   NaN      Reg   \n",
       "1   2          20       RL         80.0     9600   Pave   NaN      Reg   \n",
       "2   3          60       RL         68.0    11250   Pave   NaN      IR1   \n",
       "3   4          70       RL         60.0     9550   Pave   NaN      IR1   \n",
       "4   5          60       RL         84.0    14260   Pave   NaN      IR1   \n",
       "\n",
       "  LandContour Utilities  ... PoolArea PoolQC Fence MiscFeature MiscVal MoSold  \\\n",
       "0         Lvl    AllPub  ...        0    NaN   NaN         NaN       0      2   \n",
       "1         Lvl    AllPub  ...        0    NaN   NaN         NaN       0      5   \n",
       "2         Lvl    AllPub  ...        0    NaN   NaN         NaN       0      9   \n",
       "3         Lvl    AllPub  ...        0    NaN   NaN         NaN       0      2   \n",
       "4         Lvl    AllPub  ...        0    NaN   NaN         NaN       0     12   \n",
       "\n",
       "  YrSold  SaleType  SaleCondition  SalePrice  \n",
       "0   2008        WD         Normal     208500  \n",
       "1   2007        WD         Normal     181500  \n",
       "2   2008        WD         Normal     223500  \n",
       "3   2006        WD        Abnorml     140000  \n",
       "4   2008        WD         Normal     250000  \n",
       "\n",
       "[5 rows x 81 columns]"
      ]
     },
     "execution_count": 4,
     "metadata": {},
     "output_type": "execute_result"
    }
   ],
   "source": [
    "df.head()"
   ]
  },
  {
   "cell_type": "code",
   "execution_count": 5,
   "metadata": {
    "ExecuteTime": {
     "end_time": "2020-04-04T14:23:36.558631Z",
     "start_time": "2020-04-04T14:23:36.552632Z"
    }
   },
   "outputs": [
    {
     "data": {
      "text/plain": [
       "(1460, 81)"
      ]
     },
     "execution_count": 5,
     "metadata": {},
     "output_type": "execute_result"
    }
   ],
   "source": [
    "df.shape"
   ]
  },
  {
   "cell_type": "code",
   "execution_count": 6,
   "metadata": {
    "ExecuteTime": {
     "end_time": "2020-04-04T14:23:36.771644Z",
     "start_time": "2020-04-04T14:23:36.561629Z"
    }
   },
   "outputs": [
    {
     "data": {
      "text/html": [
       "<div>\n",
       "<style scoped>\n",
       "    .dataframe tbody tr th:only-of-type {\n",
       "        vertical-align: middle;\n",
       "    }\n",
       "\n",
       "    .dataframe tbody tr th {\n",
       "        vertical-align: top;\n",
       "    }\n",
       "\n",
       "    .dataframe thead th {\n",
       "        text-align: right;\n",
       "    }\n",
       "</style>\n",
       "<table border=\"1\" class=\"dataframe\">\n",
       "  <thead>\n",
       "    <tr style=\"text-align: right;\">\n",
       "      <th></th>\n",
       "      <th>Id</th>\n",
       "      <th>MSSubClass</th>\n",
       "      <th>MSZoning</th>\n",
       "      <th>LotFrontage</th>\n",
       "      <th>LotArea</th>\n",
       "      <th>Street</th>\n",
       "      <th>Alley</th>\n",
       "      <th>LotShape</th>\n",
       "      <th>LandContour</th>\n",
       "      <th>Utilities</th>\n",
       "      <th>...</th>\n",
       "      <th>ScreenPorch</th>\n",
       "      <th>PoolArea</th>\n",
       "      <th>PoolQC</th>\n",
       "      <th>Fence</th>\n",
       "      <th>MiscFeature</th>\n",
       "      <th>MiscVal</th>\n",
       "      <th>MoSold</th>\n",
       "      <th>YrSold</th>\n",
       "      <th>SaleType</th>\n",
       "      <th>SaleCondition</th>\n",
       "    </tr>\n",
       "  </thead>\n",
       "  <tbody>\n",
       "    <tr>\n",
       "      <th>0</th>\n",
       "      <td>1461</td>\n",
       "      <td>20</td>\n",
       "      <td>RH</td>\n",
       "      <td>80.0</td>\n",
       "      <td>11622</td>\n",
       "      <td>Pave</td>\n",
       "      <td>NaN</td>\n",
       "      <td>Reg</td>\n",
       "      <td>Lvl</td>\n",
       "      <td>AllPub</td>\n",
       "      <td>...</td>\n",
       "      <td>120</td>\n",
       "      <td>0</td>\n",
       "      <td>NaN</td>\n",
       "      <td>MnPrv</td>\n",
       "      <td>NaN</td>\n",
       "      <td>0</td>\n",
       "      <td>6</td>\n",
       "      <td>2010</td>\n",
       "      <td>WD</td>\n",
       "      <td>Normal</td>\n",
       "    </tr>\n",
       "    <tr>\n",
       "      <th>1</th>\n",
       "      <td>1462</td>\n",
       "      <td>20</td>\n",
       "      <td>RL</td>\n",
       "      <td>81.0</td>\n",
       "      <td>14267</td>\n",
       "      <td>Pave</td>\n",
       "      <td>NaN</td>\n",
       "      <td>IR1</td>\n",
       "      <td>Lvl</td>\n",
       "      <td>AllPub</td>\n",
       "      <td>...</td>\n",
       "      <td>0</td>\n",
       "      <td>0</td>\n",
       "      <td>NaN</td>\n",
       "      <td>NaN</td>\n",
       "      <td>Gar2</td>\n",
       "      <td>12500</td>\n",
       "      <td>6</td>\n",
       "      <td>2010</td>\n",
       "      <td>WD</td>\n",
       "      <td>Normal</td>\n",
       "    </tr>\n",
       "    <tr>\n",
       "      <th>2</th>\n",
       "      <td>1463</td>\n",
       "      <td>60</td>\n",
       "      <td>RL</td>\n",
       "      <td>74.0</td>\n",
       "      <td>13830</td>\n",
       "      <td>Pave</td>\n",
       "      <td>NaN</td>\n",
       "      <td>IR1</td>\n",
       "      <td>Lvl</td>\n",
       "      <td>AllPub</td>\n",
       "      <td>...</td>\n",
       "      <td>0</td>\n",
       "      <td>0</td>\n",
       "      <td>NaN</td>\n",
       "      <td>MnPrv</td>\n",
       "      <td>NaN</td>\n",
       "      <td>0</td>\n",
       "      <td>3</td>\n",
       "      <td>2010</td>\n",
       "      <td>WD</td>\n",
       "      <td>Normal</td>\n",
       "    </tr>\n",
       "    <tr>\n",
       "      <th>3</th>\n",
       "      <td>1464</td>\n",
       "      <td>60</td>\n",
       "      <td>RL</td>\n",
       "      <td>78.0</td>\n",
       "      <td>9978</td>\n",
       "      <td>Pave</td>\n",
       "      <td>NaN</td>\n",
       "      <td>IR1</td>\n",
       "      <td>Lvl</td>\n",
       "      <td>AllPub</td>\n",
       "      <td>...</td>\n",
       "      <td>0</td>\n",
       "      <td>0</td>\n",
       "      <td>NaN</td>\n",
       "      <td>NaN</td>\n",
       "      <td>NaN</td>\n",
       "      <td>0</td>\n",
       "      <td>6</td>\n",
       "      <td>2010</td>\n",
       "      <td>WD</td>\n",
       "      <td>Normal</td>\n",
       "    </tr>\n",
       "    <tr>\n",
       "      <th>4</th>\n",
       "      <td>1465</td>\n",
       "      <td>120</td>\n",
       "      <td>RL</td>\n",
       "      <td>43.0</td>\n",
       "      <td>5005</td>\n",
       "      <td>Pave</td>\n",
       "      <td>NaN</td>\n",
       "      <td>IR1</td>\n",
       "      <td>HLS</td>\n",
       "      <td>AllPub</td>\n",
       "      <td>...</td>\n",
       "      <td>144</td>\n",
       "      <td>0</td>\n",
       "      <td>NaN</td>\n",
       "      <td>NaN</td>\n",
       "      <td>NaN</td>\n",
       "      <td>0</td>\n",
       "      <td>1</td>\n",
       "      <td>2010</td>\n",
       "      <td>WD</td>\n",
       "      <td>Normal</td>\n",
       "    </tr>\n",
       "  </tbody>\n",
       "</table>\n",
       "<p>5 rows × 80 columns</p>\n",
       "</div>"
      ],
      "text/plain": [
       "     Id  MSSubClass MSZoning  LotFrontage  LotArea Street Alley LotShape  \\\n",
       "0  1461          20       RH         80.0    11622   Pave   NaN      Reg   \n",
       "1  1462          20       RL         81.0    14267   Pave   NaN      IR1   \n",
       "2  1463          60       RL         74.0    13830   Pave   NaN      IR1   \n",
       "3  1464          60       RL         78.0     9978   Pave   NaN      IR1   \n",
       "4  1465         120       RL         43.0     5005   Pave   NaN      IR1   \n",
       "\n",
       "  LandContour Utilities  ... ScreenPorch PoolArea PoolQC  Fence MiscFeature  \\\n",
       "0         Lvl    AllPub  ...         120        0    NaN  MnPrv         NaN   \n",
       "1         Lvl    AllPub  ...           0        0    NaN    NaN        Gar2   \n",
       "2         Lvl    AllPub  ...           0        0    NaN  MnPrv         NaN   \n",
       "3         Lvl    AllPub  ...           0        0    NaN    NaN         NaN   \n",
       "4         HLS    AllPub  ...         144        0    NaN    NaN         NaN   \n",
       "\n",
       "  MiscVal MoSold  YrSold  SaleType  SaleCondition  \n",
       "0       0      6    2010        WD         Normal  \n",
       "1   12500      6    2010        WD         Normal  \n",
       "2       0      3    2010        WD         Normal  \n",
       "3       0      6    2010        WD         Normal  \n",
       "4       0      1    2010        WD         Normal  \n",
       "\n",
       "[5 rows x 80 columns]"
      ]
     },
     "execution_count": 6,
     "metadata": {},
     "output_type": "execute_result"
    }
   ],
   "source": [
    "dftest.head()"
   ]
  },
  {
   "cell_type": "code",
   "execution_count": 7,
   "metadata": {
    "ExecuteTime": {
     "end_time": "2020-04-04T14:23:37.059309Z",
     "start_time": "2020-04-04T14:23:36.773645Z"
    }
   },
   "outputs": [
    {
     "data": {
      "text/plain": [
       "(1459, 80)"
      ]
     },
     "execution_count": 7,
     "metadata": {},
     "output_type": "execute_result"
    }
   ],
   "source": [
    "dftest.shape"
   ]
  },
  {
   "cell_type": "code",
   "execution_count": null,
   "metadata": {},
   "outputs": [],
   "source": []
  },
  {
   "cell_type": "code",
   "execution_count": 8,
   "metadata": {
    "ExecuteTime": {
     "end_time": "2020-04-04T14:23:44.132022Z",
     "start_time": "2020-04-04T14:23:37.063290Z"
    }
   },
   "outputs": [],
   "source": [
    "import pandas_profiling as pp"
   ]
  },
  {
   "cell_type": "code",
   "execution_count": 9,
   "metadata": {
    "ExecuteTime": {
     "end_time": "2020-04-04T14:23:44.138961Z",
     "start_time": "2020-04-04T14:23:44.134983Z"
    }
   },
   "outputs": [],
   "source": [
    "# pp.ProfileReport(df)"
   ]
  },
  {
   "cell_type": "markdown",
   "metadata": {},
   "source": [
    "<b>"
   ]
  },
  {
   "cell_type": "markdown",
   "metadata": {},
   "source": [
    "<font size ='5'>Combining train and test data</font>"
   ]
  },
  {
   "cell_type": "code",
   "execution_count": 10,
   "metadata": {
    "ExecuteTime": {
     "end_time": "2020-04-04T14:23:44.565084Z",
     "start_time": "2020-04-04T14:23:44.143959Z"
    }
   },
   "outputs": [],
   "source": [
    "df3 = df.drop(['SalePrice'],axis = 1)\n",
    "df4 = df[['SalePrice']]"
   ]
  },
  {
   "cell_type": "code",
   "execution_count": 20,
   "metadata": {
    "ExecuteTime": {
     "end_time": "2020-04-04T14:45:00.634203Z",
     "start_time": "2020-04-04T14:45:00.262415Z"
    }
   },
   "outputs": [
    {
     "data": {
      "text/plain": [
       "<matplotlib.axes._subplots.AxesSubplot at 0x27289b99278>"
      ]
     },
     "execution_count": 20,
     "metadata": {},
     "output_type": "execute_result"
    },
    {
     "data": {
      "image/png": "[encoded data removed]",
      "text/plain": [
       "<Figure size 792x504 with 1 Axes>"
      ]
     },
     "metadata": {},
     "output_type": "display_data"
    }
   ],
   "source": [
    "df4['SalePrice'].plot(kind = 'hist',bins=20,colormap = 'Spectral',title ='Distribution of Sale Price',figsize=(11, 7))"
   ]
  },
  {
   "cell_type": "code",
   "execution_count": 358,
   "metadata": {
    "ExecuteTime": {
     "end_time": "2020-04-03T17:03:30.277118Z",
     "start_time": "2020-04-03T17:03:30.085757Z"
    }
   },
   "outputs": [
    {
     "data": {
      "text/plain": [
       "(2919, 80)"
      ]
     },
     "execution_count": 358,
     "metadata": {},
     "output_type": "execute_result"
    }
   ],
   "source": [
    "all_data = df3.append(dftest)\n",
    "all_data.shape"
   ]
  },
  {
   "cell_type": "code",
   "execution_count": 359,
   "metadata": {
    "ExecuteTime": {
     "end_time": "2020-04-03T17:03:30.457733Z",
     "start_time": "2020-04-03T17:03:30.279117Z"
    }
   },
   "outputs": [
    {
     "data": {
      "text/plain": [
       "dtype('O')"
      ]
     },
     "execution_count": 359,
     "metadata": {},
     "output_type": "execute_result"
    }
   ],
   "source": [
    "all_data.Fence.dtype"
   ]
  },
  {
   "cell_type": "code",
   "execution_count": 360,
   "metadata": {
    "ExecuteTime": {
     "end_time": "2020-04-03T17:03:30.685622Z",
     "start_time": "2020-04-03T17:03:30.459713Z"
    }
   },
   "outputs": [],
   "source": [
    "dict_data_types = dict(all_data.dtypes)"
   ]
  },
  {
   "cell_type": "markdown",
   "metadata": {},
   "source": [
    "## Analysis of Columns with Missing values"
   ]
  },
  {
   "cell_type": "code",
   "execution_count": 361,
   "metadata": {
    "ExecuteTime": {
     "end_time": "2020-04-03T17:03:31.154524Z",
     "start_time": "2020-04-03T17:03:30.687621Z"
    }
   },
   "outputs": [
    {
     "data": {
      "text/html": [
       "<div>\n",
       "<style scoped>\n",
       "    .dataframe tbody tr th:only-of-type {\n",
       "        vertical-align: middle;\n",
       "    }\n",
       "\n",
       "    .dataframe tbody tr th {\n",
       "        vertical-align: top;\n",
       "    }\n",
       "\n",
       "    .dataframe thead th {\n",
       "        text-align: right;\n",
       "    }\n",
       "</style>\n",
       "<table border=\"1\" class=\"dataframe\">\n",
       "  <thead>\n",
       "    <tr style=\"text-align: right;\">\n",
       "      <th></th>\n",
       "      <th>Missing Value %</th>\n",
       "      <th>Data_Type_column</th>\n",
       "    </tr>\n",
       "  </thead>\n",
       "  <tbody>\n",
       "    <tr>\n",
       "      <th>PoolQC</th>\n",
       "      <td>99.657417</td>\n",
       "      <td>object</td>\n",
       "    </tr>\n",
       "    <tr>\n",
       "      <th>MiscFeature</th>\n",
       "      <td>96.402878</td>\n",
       "      <td>object</td>\n",
       "    </tr>\n",
       "    <tr>\n",
       "      <th>Alley</th>\n",
       "      <td>93.216855</td>\n",
       "      <td>object</td>\n",
       "    </tr>\n",
       "    <tr>\n",
       "      <th>Fence</th>\n",
       "      <td>80.438506</td>\n",
       "      <td>object</td>\n",
       "    </tr>\n",
       "    <tr>\n",
       "      <th>FireplaceQu</th>\n",
       "      <td>48.646797</td>\n",
       "      <td>object</td>\n",
       "    </tr>\n",
       "    <tr>\n",
       "      <th>LotFrontage</th>\n",
       "      <td>16.649538</td>\n",
       "      <td>float64</td>\n",
       "    </tr>\n",
       "    <tr>\n",
       "      <th>GarageYrBlt</th>\n",
       "      <td>5.447071</td>\n",
       "      <td>float64</td>\n",
       "    </tr>\n",
       "    <tr>\n",
       "      <th>GarageFinish</th>\n",
       "      <td>5.447071</td>\n",
       "      <td>object</td>\n",
       "    </tr>\n",
       "    <tr>\n",
       "      <th>GarageQual</th>\n",
       "      <td>5.447071</td>\n",
       "      <td>object</td>\n",
       "    </tr>\n",
       "    <tr>\n",
       "      <th>GarageCond</th>\n",
       "      <td>5.447071</td>\n",
       "      <td>object</td>\n",
       "    </tr>\n",
       "    <tr>\n",
       "      <th>GarageType</th>\n",
       "      <td>5.378554</td>\n",
       "      <td>object</td>\n",
       "    </tr>\n",
       "    <tr>\n",
       "      <th>BsmtExposure</th>\n",
       "      <td>2.809181</td>\n",
       "      <td>object</td>\n",
       "    </tr>\n",
       "    <tr>\n",
       "      <th>BsmtCond</th>\n",
       "      <td>2.809181</td>\n",
       "      <td>object</td>\n",
       "    </tr>\n",
       "    <tr>\n",
       "      <th>BsmtQual</th>\n",
       "      <td>2.774923</td>\n",
       "      <td>object</td>\n",
       "    </tr>\n",
       "    <tr>\n",
       "      <th>BsmtFinType2</th>\n",
       "      <td>2.740665</td>\n",
       "      <td>object</td>\n",
       "    </tr>\n",
       "    <tr>\n",
       "      <th>BsmtFinType1</th>\n",
       "      <td>2.706406</td>\n",
       "      <td>object</td>\n",
       "    </tr>\n",
       "    <tr>\n",
       "      <th>MasVnrType</th>\n",
       "      <td>0.822199</td>\n",
       "      <td>object</td>\n",
       "    </tr>\n",
       "    <tr>\n",
       "      <th>MasVnrArea</th>\n",
       "      <td>0.787941</td>\n",
       "      <td>float64</td>\n",
       "    </tr>\n",
       "    <tr>\n",
       "      <th>MSZoning</th>\n",
       "      <td>0.137033</td>\n",
       "      <td>object</td>\n",
       "    </tr>\n",
       "    <tr>\n",
       "      <th>Functional</th>\n",
       "      <td>0.068517</td>\n",
       "      <td>object</td>\n",
       "    </tr>\n",
       "    <tr>\n",
       "      <th>BsmtHalfBath</th>\n",
       "      <td>0.068517</td>\n",
       "      <td>float64</td>\n",
       "    </tr>\n",
       "    <tr>\n",
       "      <th>BsmtFullBath</th>\n",
       "      <td>0.068517</td>\n",
       "      <td>float64</td>\n",
       "    </tr>\n",
       "    <tr>\n",
       "      <th>Utilities</th>\n",
       "      <td>0.068517</td>\n",
       "      <td>object</td>\n",
       "    </tr>\n",
       "    <tr>\n",
       "      <th>GarageCars</th>\n",
       "      <td>0.034258</td>\n",
       "      <td>float64</td>\n",
       "    </tr>\n",
       "    <tr>\n",
       "      <th>KitchenQual</th>\n",
       "      <td>0.034258</td>\n",
       "      <td>object</td>\n",
       "    </tr>\n",
       "  </tbody>\n",
       "</table>\n",
       "</div>"
      ],
      "text/plain": [
       "              Missing Value % Data_Type_column\n",
       "PoolQC              99.657417           object\n",
       "MiscFeature         96.402878           object\n",
       "Alley               93.216855           object\n",
       "Fence               80.438506           object\n",
       "FireplaceQu         48.646797           object\n",
       "LotFrontage         16.649538          float64\n",
       "GarageYrBlt          5.447071          float64\n",
       "GarageFinish         5.447071           object\n",
       "GarageQual           5.447071           object\n",
       "GarageCond           5.447071           object\n",
       "GarageType           5.378554           object\n",
       "BsmtExposure         2.809181           object\n",
       "BsmtCond             2.809181           object\n",
       "BsmtQual             2.774923           object\n",
       "BsmtFinType2         2.740665           object\n",
       "BsmtFinType1         2.706406           object\n",
       "MasVnrType           0.822199           object\n",
       "MasVnrArea           0.787941          float64\n",
       "MSZoning             0.137033           object\n",
       "Functional           0.068517           object\n",
       "BsmtHalfBath         0.068517          float64\n",
       "BsmtFullBath         0.068517          float64\n",
       "Utilities            0.068517           object\n",
       "GarageCars           0.034258          float64\n",
       "KitchenQual          0.034258           object"
      ]
     },
     "execution_count": 361,
     "metadata": {},
     "output_type": "execute_result"
    }
   ],
   "source": [
    "t = all_data.isnull().sum()/len(all_data)*100\n",
    "missing_all_data = pd.DataFrame({'Missing Value %' :t}).sort_values('Missing Value %',ascending=False)\n",
    "missing_all_data['Data_Type_column'] = missing_all_data.index.map(dict_data_types)\n",
    "missing_all_data.head(25)"
   ]
  },
  {
   "cell_type": "code",
   "execution_count": null,
   "metadata": {},
   "outputs": [],
   "source": []
  },
  {
   "cell_type": "code",
   "execution_count": 362,
   "metadata": {
    "ExecuteTime": {
     "end_time": "2020-04-03T17:03:31.214472Z",
     "start_time": "2020-04-03T17:03:31.156507Z"
    }
   },
   "outputs": [],
   "source": [
    "list_missing_catg = missing_data[missing_data['Data_Type_column'] == 'object'].index"
   ]
  },
  {
   "cell_type": "code",
   "execution_count": 363,
   "metadata": {
    "ExecuteTime": {
     "end_time": "2020-04-03T17:03:31.535134Z",
     "start_time": "2020-04-03T17:03:31.218470Z"
    }
   },
   "outputs": [],
   "source": [
    "df_catg_valuecounts = pd.DataFrame( index = list_missing_catg)\n",
    "df_catg_valuecounts.index.name = 'Catg columns with missing values'\n",
    "df_catg_valuecounts['value_counts']= [dict(all_data[x].value_counts()) for x in list_missing_catg]\n",
    "df_catg_valuecounts['Number of unique values'] = [all_data[x].nunique() for x in list_missing_catg]\n",
    "df_catg_valuecounts['mode'] = df_catg_valuecounts['value_counts'].apply(lambda x : list(x.values())[0])"
   ]
  },
  {
   "cell_type": "code",
   "execution_count": 364,
   "metadata": {
    "ExecuteTime": {
     "end_time": "2020-04-03T17:03:31.616191Z",
     "start_time": "2020-04-03T17:03:31.537095Z"
    }
   },
   "outputs": [
    {
     "data": {
      "text/html": [
       "<div>\n",
       "<style scoped>\n",
       "    .dataframe tbody tr th:only-of-type {\n",
       "        vertical-align: middle;\n",
       "    }\n",
       "\n",
       "    .dataframe tbody tr th {\n",
       "        vertical-align: top;\n",
       "    }\n",
       "\n",
       "    .dataframe thead th {\n",
       "        text-align: right;\n",
       "    }\n",
       "</style>\n",
       "<table border=\"1\" class=\"dataframe\">\n",
       "  <thead>\n",
       "    <tr style=\"text-align: right;\">\n",
       "      <th></th>\n",
       "      <th>value_counts</th>\n",
       "      <th>Number of unique values</th>\n",
       "      <th>mode</th>\n",
       "    </tr>\n",
       "    <tr>\n",
       "      <th>Catg columns with missing values</th>\n",
       "      <th></th>\n",
       "      <th></th>\n",
       "      <th></th>\n",
       "    </tr>\n",
       "  </thead>\n",
       "  <tbody>\n",
       "    <tr>\n",
       "      <th>PoolQC</th>\n",
       "      <td>{'Ex': 4, 'Gd': 4, 'Fa': 2}</td>\n",
       "      <td>3</td>\n",
       "      <td>4</td>\n",
       "    </tr>\n",
       "    <tr>\n",
       "      <th>MiscFeature</th>\n",
       "      <td>{'Shed': 95, 'Gar2': 5, 'Othr': 4, 'TenC': 1}</td>\n",
       "      <td>4</td>\n",
       "      <td>95</td>\n",
       "    </tr>\n",
       "    <tr>\n",
       "      <th>Alley</th>\n",
       "      <td>{'Grvl': 120, 'Pave': 78}</td>\n",
       "      <td>2</td>\n",
       "      <td>120</td>\n",
       "    </tr>\n",
       "    <tr>\n",
       "      <th>Fence</th>\n",
       "      <td>{'MnPrv': 329, 'GdPrv': 118, 'GdWo': 112, 'MnW...</td>\n",
       "      <td>4</td>\n",
       "      <td>329</td>\n",
       "    </tr>\n",
       "    <tr>\n",
       "      <th>FireplaceQu</th>\n",
       "      <td>{'Gd': 744, 'TA': 592, 'Fa': 74, 'Po': 46, 'Ex...</td>\n",
       "      <td>5</td>\n",
       "      <td>744</td>\n",
       "    </tr>\n",
       "    <tr>\n",
       "      <th>GarageCond</th>\n",
       "      <td>{'TA': 2654, 'Fa': 74, 'Gd': 15, 'Po': 14, 'Ex...</td>\n",
       "      <td>5</td>\n",
       "      <td>2654</td>\n",
       "    </tr>\n",
       "    <tr>\n",
       "      <th>GarageType</th>\n",
       "      <td>{'Attchd': 1723, 'Detchd': 779, 'BuiltIn': 186...</td>\n",
       "      <td>6</td>\n",
       "      <td>1723</td>\n",
       "    </tr>\n",
       "  </tbody>\n",
       "</table>\n",
       "</div>"
      ],
      "text/plain": [
       "                                                                       value_counts  \\\n",
       "Catg columns with missing values                                                      \n",
       "PoolQC                                                  {'Ex': 4, 'Gd': 4, 'Fa': 2}   \n",
       "MiscFeature                           {'Shed': 95, 'Gar2': 5, 'Othr': 4, 'TenC': 1}   \n",
       "Alley                                                     {'Grvl': 120, 'Pave': 78}   \n",
       "Fence                             {'MnPrv': 329, 'GdPrv': 118, 'GdWo': 112, 'MnW...   \n",
       "FireplaceQu                       {'Gd': 744, 'TA': 592, 'Fa': 74, 'Po': 46, 'Ex...   \n",
       "GarageCond                        {'TA': 2654, 'Fa': 74, 'Gd': 15, 'Po': 14, 'Ex...   \n",
       "GarageType                        {'Attchd': 1723, 'Detchd': 779, 'BuiltIn': 186...   \n",
       "\n",
       "                                  Number of unique values  mode  \n",
       "Catg columns with missing values                                 \n",
       "PoolQC                                                  3     4  \n",
       "MiscFeature                                             4    95  \n",
       "Alley                                                   2   120  \n",
       "Fence                                                   4   329  \n",
       "FireplaceQu                                             5   744  \n",
       "GarageCond                                              5  2654  \n",
       "GarageType                                              6  1723  "
      ]
     },
     "execution_count": 364,
     "metadata": {},
     "output_type": "execute_result"
    }
   ],
   "source": [
    "df_catg_valuecounts.head(7)"
   ]
  },
  {
   "cell_type": "code",
   "execution_count": null,
   "metadata": {},
   "outputs": [],
   "source": []
  },
  {
   "cell_type": "markdown",
   "metadata": {},
   "source": [
    "<font size = '3'> **Removing columns with more than 90 per cent missing values**</font>"
   ]
  },
  {
   "cell_type": "code",
   "execution_count": 365,
   "metadata": {
    "ExecuteTime": {
     "end_time": "2020-04-03T17:03:31.812296Z",
     "start_time": "2020-04-03T17:03:31.618189Z"
    }
   },
   "outputs": [],
   "source": [
    "mask_all_data = all_data.isna().sum()/len(all_data) < 0.9"
   ]
  },
  {
   "cell_type": "code",
   "execution_count": 366,
   "metadata": {
    "ExecuteTime": {
     "end_time": "2020-04-03T17:03:32.022598Z",
     "start_time": "2020-04-03T17:03:31.814239Z"
    }
   },
   "outputs": [
    {
     "data": {
      "text/plain": [
       "(2919, 77)"
      ]
     },
     "execution_count": 366,
     "metadata": {},
     "output_type": "execute_result"
    }
   ],
   "source": [
    "all_data = all_data.loc[:, mask_all_data]\n",
    "all_data.shape "
   ]
  },
  {
   "cell_type": "code",
   "execution_count": null,
   "metadata": {},
   "outputs": [],
   "source": []
  },
  {
   "cell_type": "markdown",
   "metadata": {},
   "source": [
    "### Removing Columns that don't add information to the dataset"
   ]
  },
  {
   "cell_type": "markdown",
   "metadata": {},
   "source": [
    "As observed from the profiling report 3SsnPorch, LowQualFinSF, MiscVal, PoolArea has more than 99% values equal to 0"
   ]
  },
  {
   "cell_type": "code",
   "execution_count": 367,
   "metadata": {
    "ExecuteTime": {
     "end_time": "2020-04-03T17:03:32.255622Z",
     "start_time": "2020-04-03T17:03:32.024579Z"
    }
   },
   "outputs": [],
   "source": [
    "all_data.drop(['3SsnPorch','LowQualFinSF','MiscVal','PoolArea'], axis = 1, inplace = True)"
   ]
  },
  {
   "cell_type": "code",
   "execution_count": 368,
   "metadata": {
    "ExecuteTime": {
     "end_time": "2020-04-03T17:03:32.446138Z",
     "start_time": "2020-04-03T17:03:32.257622Z"
    }
   },
   "outputs": [
    {
     "data": {
      "text/plain": [
       "AllPub    2916\n",
       "NoSeWa       1\n",
       "Name: Utilities, dtype: int64"
      ]
     },
     "execution_count": 368,
     "metadata": {},
     "output_type": "execute_result"
    }
   ],
   "source": [
    "all_data['Utilities'].value_counts()"
   ]
  },
  {
   "cell_type": "markdown",
   "metadata": {},
   "source": [
    "<font size = '3'> We can see that all the values in the Utilities column have the same value, hence this column hold no significance for our predicition.</font>"
   ]
  },
  {
   "cell_type": "code",
   "execution_count": 369,
   "metadata": {
    "ExecuteTime": {
     "end_time": "2020-04-03T17:03:32.618349Z",
     "start_time": "2020-04-03T17:03:32.448120Z"
    }
   },
   "outputs": [],
   "source": [
    "all_data.drop(['Utilities'],axis = 1, inplace = True)"
   ]
  },
  {
   "cell_type": "code",
   "execution_count": 390,
   "metadata": {
    "ExecuteTime": {
     "end_time": "2020-04-03T17:11:45.888430Z",
     "start_time": "2020-04-03T17:11:45.883435Z"
    }
   },
   "outputs": [
    {
     "data": {
      "text/plain": [
       "(2919, 72)"
      ]
     },
     "execution_count": 390,
     "metadata": {},
     "output_type": "execute_result"
    }
   ],
   "source": [
    "all_data.shape"
   ]
  },
  {
   "cell_type": "markdown",
   "metadata": {},
   "source": [
    "### Making a list of columns based on data types"
   ]
  },
  {
   "cell_type": "code",
   "execution_count": 370,
   "metadata": {
    "ExecuteTime": {
     "end_time": "2020-04-03T17:03:32.810422Z",
     "start_time": "2020-04-03T17:03:32.624312Z"
    }
   },
   "outputs": [
    {
     "name": "stdout",
     "output_type": "stream",
     "text": [
      "Categorical variables:\n",
      "['MSZoning', 'Street', 'LotShape', 'LandContour', 'LotConfig', 'LandSlope', 'Neighborhood', 'Condition1', 'Condition2', 'BldgType', 'HouseStyle', 'RoofStyle', 'RoofMatl', 'Exterior1st', 'Exterior2nd', 'MasVnrType', 'ExterQual', 'ExterCond', 'Foundation', 'BsmtQual', 'BsmtCond', 'BsmtExposure', 'BsmtFinType1', 'BsmtFinType2', 'Heating', 'HeatingQC', 'CentralAir', 'Electrical', 'KitchenQual', 'Functional', 'FireplaceQu', 'GarageType', 'GarageFinish', 'GarageQual', 'GarageCond', 'PavedDrive', 'Fence', 'SaleType', 'SaleCondition']\n"
     ]
    }
   ],
   "source": [
    "s_object = (all_data.dtypes == 'object')\n",
    "object_cols = list(s_object[s_object].index)\n",
    "\n",
    "print(\"Categorical variables:\")\n",
    "print(object_cols)"
   ]
  },
  {
   "cell_type": "code",
   "execution_count": 371,
   "metadata": {
    "ExecuteTime": {
     "end_time": "2020-04-03T17:03:32.998636Z",
     "start_time": "2020-04-03T17:03:32.814402Z"
    }
   },
   "outputs": [
    {
     "name": "stdout",
     "output_type": "stream",
     "text": [
      "Intergeral Vairables:\n",
      "['Id', 'MSSubClass', 'LotArea', 'OverallQual', 'OverallCond', 'YearBuilt', 'YearRemodAdd', '1stFlrSF', '2ndFlrSF', 'GrLivArea', 'FullBath', 'HalfBath', 'BedroomAbvGr', 'KitchenAbvGr', 'TotRmsAbvGrd', 'Fireplaces', 'WoodDeckSF', 'OpenPorchSF', 'EnclosedPorch', 'ScreenPorch', 'MoSold', 'YrSold']\n"
     ]
    }
   ],
   "source": [
    "s_int = (all_data.dtypes == 'int64')\n",
    "int_cols = list(s_int[s_int].index)\n",
    "print('Intergeral Vairables:')\n",
    "print(int_cols)"
   ]
  },
  {
   "cell_type": "code",
   "execution_count": 372,
   "metadata": {
    "ExecuteTime": {
     "end_time": "2020-04-03T17:03:33.197174Z",
     "start_time": "2020-04-03T17:03:33.001615Z"
    }
   },
   "outputs": [
    {
     "name": "stdout",
     "output_type": "stream",
     "text": [
      "Float Vairables:\n",
      "['LotFrontage', 'MasVnrArea', 'BsmtFinSF1', 'BsmtFinSF2', 'BsmtUnfSF', 'TotalBsmtSF', 'BsmtFullBath', 'BsmtHalfBath', 'GarageYrBlt', 'GarageCars', 'GarageArea']\n"
     ]
    }
   ],
   "source": [
    "s_float = (all_data.dtypes == 'float64')\n",
    "float_cols = list(s_float[s_float].index)\n",
    "print('Float Vairables:')\n",
    "print(float_cols)"
   ]
  },
  {
   "cell_type": "code",
   "execution_count": 373,
   "metadata": {
    "ExecuteTime": {
     "end_time": "2020-04-03T17:03:33.339943Z",
     "start_time": "2020-04-03T17:03:33.199174Z"
    }
   },
   "outputs": [],
   "source": [
    "#Making a separate list of numeric columns and object columns to asssit in algorithm building"
   ]
  },
  {
   "cell_type": "code",
   "execution_count": 374,
   "metadata": {
    "ExecuteTime": {
     "end_time": "2020-04-03T17:03:33.515917Z",
     "start_time": "2020-04-03T17:03:33.341940Z"
    }
   },
   "outputs": [],
   "source": [
    "int_cols2 = int_cols[:]\n",
    "\n",
    "int_cols2.extend(float_cols)\n",
    "\n",
    "numeric_cols_train = int_cols2[:]"
   ]
  },
  {
   "cell_type": "markdown",
   "metadata": {},
   "source": [
    "<b>"
   ]
  },
  {
   "cell_type": "markdown",
   "metadata": {},
   "source": [
    "## Imputing Missing Values"
   ]
  },
  {
   "cell_type": "markdown",
   "metadata": {},
   "source": [
    "Below is a column of categorical columns with missing values"
   ]
  },
  {
   "cell_type": "code",
   "execution_count": 375,
   "metadata": {
    "ExecuteTime": {
     "end_time": "2020-04-03T17:03:33.851910Z",
     "start_time": "2020-04-03T17:03:33.517915Z"
    }
   },
   "outputs": [
    {
     "data": {
      "text/html": [
       "<div>\n",
       "<style scoped>\n",
       "    .dataframe tbody tr th:only-of-type {\n",
       "        vertical-align: middle;\n",
       "    }\n",
       "\n",
       "    .dataframe tbody tr th {\n",
       "        vertical-align: top;\n",
       "    }\n",
       "\n",
       "    .dataframe thead th {\n",
       "        text-align: right;\n",
       "    }\n",
       "</style>\n",
       "<table border=\"1\" class=\"dataframe\">\n",
       "  <thead>\n",
       "    <tr style=\"text-align: right;\">\n",
       "      <th></th>\n",
       "      <th>value_counts</th>\n",
       "      <th>Number of unique values</th>\n",
       "      <th>mode</th>\n",
       "    </tr>\n",
       "    <tr>\n",
       "      <th>Catg columns with missing values</th>\n",
       "      <th></th>\n",
       "      <th></th>\n",
       "      <th></th>\n",
       "    </tr>\n",
       "  </thead>\n",
       "  <tbody>\n",
       "    <tr>\n",
       "      <th>PoolQC</th>\n",
       "      <td>{'Ex': 4, 'Gd': 4, 'Fa': 2}</td>\n",
       "      <td>3</td>\n",
       "      <td>4</td>\n",
       "    </tr>\n",
       "    <tr>\n",
       "      <th>MiscFeature</th>\n",
       "      <td>{'Shed': 95, 'Gar2': 5, 'Othr': 4, 'TenC': 1}</td>\n",
       "      <td>4</td>\n",
       "      <td>95</td>\n",
       "    </tr>\n",
       "    <tr>\n",
       "      <th>Alley</th>\n",
       "      <td>{'Grvl': 120, 'Pave': 78}</td>\n",
       "      <td>2</td>\n",
       "      <td>120</td>\n",
       "    </tr>\n",
       "    <tr>\n",
       "      <th>Fence</th>\n",
       "      <td>{'MnPrv': 329, 'GdPrv': 118, 'GdWo': 112, 'MnW...</td>\n",
       "      <td>4</td>\n",
       "      <td>329</td>\n",
       "    </tr>\n",
       "    <tr>\n",
       "      <th>FireplaceQu</th>\n",
       "      <td>{'Gd': 744, 'TA': 592, 'Fa': 74, 'Po': 46, 'Ex...</td>\n",
       "      <td>5</td>\n",
       "      <td>744</td>\n",
       "    </tr>\n",
       "    <tr>\n",
       "      <th>GarageCond</th>\n",
       "      <td>{'TA': 2654, 'Fa': 74, 'Gd': 15, 'Po': 14, 'Ex...</td>\n",
       "      <td>5</td>\n",
       "      <td>2654</td>\n",
       "    </tr>\n",
       "    <tr>\n",
       "      <th>GarageType</th>\n",
       "      <td>{'Attchd': 1723, 'Detchd': 779, 'BuiltIn': 186...</td>\n",
       "      <td>6</td>\n",
       "      <td>1723</td>\n",
       "    </tr>\n",
       "    <tr>\n",
       "      <th>GarageFinish</th>\n",
       "      <td>{'Unf': 1230, 'RFn': 811, 'Fin': 719}</td>\n",
       "      <td>3</td>\n",
       "      <td>1230</td>\n",
       "    </tr>\n",
       "    <tr>\n",
       "      <th>GarageQual</th>\n",
       "      <td>{'TA': 2604, 'Fa': 124, 'Gd': 24, 'Po': 5, 'Ex...</td>\n",
       "      <td>5</td>\n",
       "      <td>2604</td>\n",
       "    </tr>\n",
       "    <tr>\n",
       "      <th>BsmtFinType2</th>\n",
       "      <td>{'Unf': 2493, 'Rec': 105, 'LwQ': 87, 'BLQ': 68...</td>\n",
       "      <td>6</td>\n",
       "      <td>2493</td>\n",
       "    </tr>\n",
       "    <tr>\n",
       "      <th>BsmtExposure</th>\n",
       "      <td>{'No': 1904, 'Av': 418, 'Gd': 276, 'Mn': 239}</td>\n",
       "      <td>4</td>\n",
       "      <td>1904</td>\n",
       "    </tr>\n",
       "    <tr>\n",
       "      <th>BsmtQual</th>\n",
       "      <td>{'TA': 1283, 'Gd': 1209, 'Ex': 258, 'Fa': 88}</td>\n",
       "      <td>4</td>\n",
       "      <td>1283</td>\n",
       "    </tr>\n",
       "    <tr>\n",
       "      <th>BsmtCond</th>\n",
       "      <td>{'TA': 2606, 'Gd': 122, 'Fa': 104, 'Po': 5}</td>\n",
       "      <td>4</td>\n",
       "      <td>2606</td>\n",
       "    </tr>\n",
       "    <tr>\n",
       "      <th>BsmtFinType1</th>\n",
       "      <td>{'Unf': 851, 'GLQ': 849, 'ALQ': 429, 'Rec': 28...</td>\n",
       "      <td>6</td>\n",
       "      <td>851</td>\n",
       "    </tr>\n",
       "    <tr>\n",
       "      <th>MasVnrType</th>\n",
       "      <td>{'None': 1742, 'BrkFace': 879, 'Stone': 249, '...</td>\n",
       "      <td>4</td>\n",
       "      <td>1742</td>\n",
       "    </tr>\n",
       "    <tr>\n",
       "      <th>Electrical</th>\n",
       "      <td>{'SBrkr': 2671, 'FuseA': 188, 'FuseF': 50, 'Fu...</td>\n",
       "      <td>5</td>\n",
       "      <td>2671</td>\n",
       "    </tr>\n",
       "    <tr>\n",
       "      <th>Functional</th>\n",
       "      <td>{'Typ': 2717, 'Min2': 70, 'Min1': 65, 'Mod': 3...</td>\n",
       "      <td>7</td>\n",
       "      <td>2717</td>\n",
       "    </tr>\n",
       "    <tr>\n",
       "      <th>KitchenQual</th>\n",
       "      <td>{'TA': 1492, 'Gd': 1151, 'Ex': 205, 'Fa': 70}</td>\n",
       "      <td>4</td>\n",
       "      <td>1492</td>\n",
       "    </tr>\n",
       "    <tr>\n",
       "      <th>PavedDrive</th>\n",
       "      <td>{'Y': 2641, 'N': 216, 'P': 62}</td>\n",
       "      <td>3</td>\n",
       "      <td>2641</td>\n",
       "    </tr>\n",
       "    <tr>\n",
       "      <th>SaleType</th>\n",
       "      <td>{'WD': 2525, 'New': 239, 'COD': 87, 'ConLD': 2...</td>\n",
       "      <td>9</td>\n",
       "      <td>2525</td>\n",
       "    </tr>\n",
       "    <tr>\n",
       "      <th>SaleCondition</th>\n",
       "      <td>{'Normal': 2402, 'Partial': 245, 'Abnorml': 19...</td>\n",
       "      <td>6</td>\n",
       "      <td>2402</td>\n",
       "    </tr>\n",
       "    <tr>\n",
       "      <th>HeatingQC</th>\n",
       "      <td>{'Ex': 1493, 'TA': 857, 'Gd': 474, 'Fa': 92, '...</td>\n",
       "      <td>5</td>\n",
       "      <td>1493</td>\n",
       "    </tr>\n",
       "    <tr>\n",
       "      <th>LandSlope</th>\n",
       "      <td>{'Gtl': 2778, 'Mod': 125, 'Sev': 16}</td>\n",
       "      <td>3</td>\n",
       "      <td>2778</td>\n",
       "    </tr>\n",
       "    <tr>\n",
       "      <th>HouseStyle</th>\n",
       "      <td>{'1Story': 1471, '2Story': 872, '1.5Fin': 314,...</td>\n",
       "      <td>8</td>\n",
       "      <td>1471</td>\n",
       "    </tr>\n",
       "    <tr>\n",
       "      <th>BldgType</th>\n",
       "      <td>{'1Fam': 2425, 'TwnhsE': 227, 'Duplex': 109, '...</td>\n",
       "      <td>5</td>\n",
       "      <td>2425</td>\n",
       "    </tr>\n",
       "    <tr>\n",
       "      <th>Condition2</th>\n",
       "      <td>{'Norm': 2889, 'Feedr': 13, 'Artery': 5, 'PosA...</td>\n",
       "      <td>8</td>\n",
       "      <td>2889</td>\n",
       "    </tr>\n",
       "    <tr>\n",
       "      <th>Condition1</th>\n",
       "      <td>{'Norm': 2511, 'Feedr': 164, 'Artery': 92, 'RR...</td>\n",
       "      <td>9</td>\n",
       "      <td>2511</td>\n",
       "    </tr>\n",
       "    <tr>\n",
       "      <th>Neighborhood</th>\n",
       "      <td>{'NAmes': 443, 'CollgCr': 267, 'OldTown': 239,...</td>\n",
       "      <td>25</td>\n",
       "      <td>443</td>\n",
       "    </tr>\n",
       "    <tr>\n",
       "      <th>LotConfig</th>\n",
       "      <td>{'Inside': 2133, 'Corner': 511, 'CulDSac': 176...</td>\n",
       "      <td>5</td>\n",
       "      <td>2133</td>\n",
       "    </tr>\n",
       "    <tr>\n",
       "      <th>Utilities</th>\n",
       "      <td>{'AllPub': 2916, 'NoSeWa': 1}</td>\n",
       "      <td>2</td>\n",
       "      <td>2916</td>\n",
       "    </tr>\n",
       "    <tr>\n",
       "      <th>LandContour</th>\n",
       "      <td>{'Lvl': 2622, 'HLS': 120, 'Bnk': 117, 'Low': 60}</td>\n",
       "      <td>4</td>\n",
       "      <td>2622</td>\n",
       "    </tr>\n",
       "    <tr>\n",
       "      <th>LotShape</th>\n",
       "      <td>{'Reg': 1859, 'IR1': 968, 'IR2': 76, 'IR3': 16}</td>\n",
       "      <td>4</td>\n",
       "      <td>1859</td>\n",
       "    </tr>\n",
       "    <tr>\n",
       "      <th>Street</th>\n",
       "      <td>{'Pave': 2907, 'Grvl': 12}</td>\n",
       "      <td>2</td>\n",
       "      <td>2907</td>\n",
       "    </tr>\n",
       "    <tr>\n",
       "      <th>MSZoning</th>\n",
       "      <td>{'RL': 2265, 'RM': 460, 'FV': 139, 'RH': 26, '...</td>\n",
       "      <td>5</td>\n",
       "      <td>2265</td>\n",
       "    </tr>\n",
       "    <tr>\n",
       "      <th>CentralAir</th>\n",
       "      <td>{'Y': 2723, 'N': 196}</td>\n",
       "      <td>2</td>\n",
       "      <td>2723</td>\n",
       "    </tr>\n",
       "    <tr>\n",
       "      <th>Heating</th>\n",
       "      <td>{'GasA': 2874, 'GasW': 27, 'Grav': 9, 'Wall': ...</td>\n",
       "      <td>6</td>\n",
       "      <td>2874</td>\n",
       "    </tr>\n",
       "    <tr>\n",
       "      <th>RoofStyle</th>\n",
       "      <td>{'Gable': 2310, 'Hip': 551, 'Gambrel': 22, 'Fl...</td>\n",
       "      <td>6</td>\n",
       "      <td>2310</td>\n",
       "    </tr>\n",
       "    <tr>\n",
       "      <th>Foundation</th>\n",
       "      <td>{'PConc': 1308, 'CBlock': 1235, 'BrkTil': 311,...</td>\n",
       "      <td>6</td>\n",
       "      <td>1308</td>\n",
       "    </tr>\n",
       "    <tr>\n",
       "      <th>ExterCond</th>\n",
       "      <td>{'TA': 2538, 'Gd': 299, 'Fa': 67, 'Ex': 12, 'P...</td>\n",
       "      <td>5</td>\n",
       "      <td>2538</td>\n",
       "    </tr>\n",
       "    <tr>\n",
       "      <th>ExterQual</th>\n",
       "      <td>{'TA': 1798, 'Gd': 979, 'Ex': 107, 'Fa': 35}</td>\n",
       "      <td>4</td>\n",
       "      <td>1798</td>\n",
       "    </tr>\n",
       "    <tr>\n",
       "      <th>Exterior2nd</th>\n",
       "      <td>{'VinylSd': 1014, 'MetalSd': 447, 'HdBoard': 4...</td>\n",
       "      <td>16</td>\n",
       "      <td>1014</td>\n",
       "    </tr>\n",
       "    <tr>\n",
       "      <th>Exterior1st</th>\n",
       "      <td>{'VinylSd': 1025, 'MetalSd': 450, 'HdBoard': 4...</td>\n",
       "      <td>15</td>\n",
       "      <td>1025</td>\n",
       "    </tr>\n",
       "    <tr>\n",
       "      <th>RoofMatl</th>\n",
       "      <td>{'CompShg': 2876, 'Tar&amp;Grv': 23, 'WdShake': 9,...</td>\n",
       "      <td>8</td>\n",
       "      <td>2876</td>\n",
       "    </tr>\n",
       "  </tbody>\n",
       "</table>\n",
       "</div>"
      ],
      "text/plain": [
       "                                                                       value_counts  \\\n",
       "Catg columns with missing values                                                      \n",
       "PoolQC                                                  {'Ex': 4, 'Gd': 4, 'Fa': 2}   \n",
       "MiscFeature                           {'Shed': 95, 'Gar2': 5, 'Othr': 4, 'TenC': 1}   \n",
       "Alley                                                     {'Grvl': 120, 'Pave': 78}   \n",
       "Fence                             {'MnPrv': 329, 'GdPrv': 118, 'GdWo': 112, 'MnW...   \n",
       "FireplaceQu                       {'Gd': 744, 'TA': 592, 'Fa': 74, 'Po': 46, 'Ex...   \n",
       "GarageCond                        {'TA': 2654, 'Fa': 74, 'Gd': 15, 'Po': 14, 'Ex...   \n",
       "GarageType                        {'Attchd': 1723, 'Detchd': 779, 'BuiltIn': 186...   \n",
       "GarageFinish                                  {'Unf': 1230, 'RFn': 811, 'Fin': 719}   \n",
       "GarageQual                        {'TA': 2604, 'Fa': 124, 'Gd': 24, 'Po': 5, 'Ex...   \n",
       "BsmtFinType2                      {'Unf': 2493, 'Rec': 105, 'LwQ': 87, 'BLQ': 68...   \n",
       "BsmtExposure                          {'No': 1904, 'Av': 418, 'Gd': 276, 'Mn': 239}   \n",
       "BsmtQual                              {'TA': 1283, 'Gd': 1209, 'Ex': 258, 'Fa': 88}   \n",
       "BsmtCond                                {'TA': 2606, 'Gd': 122, 'Fa': 104, 'Po': 5}   \n",
       "BsmtFinType1                      {'Unf': 851, 'GLQ': 849, 'ALQ': 429, 'Rec': 28...   \n",
       "MasVnrType                        {'None': 1742, 'BrkFace': 879, 'Stone': 249, '...   \n",
       "Electrical                        {'SBrkr': 2671, 'FuseA': 188, 'FuseF': 50, 'Fu...   \n",
       "Functional                        {'Typ': 2717, 'Min2': 70, 'Min1': 65, 'Mod': 3...   \n",
       "KitchenQual                           {'TA': 1492, 'Gd': 1151, 'Ex': 205, 'Fa': 70}   \n",
       "PavedDrive                                           {'Y': 2641, 'N': 216, 'P': 62}   \n",
       "SaleType                          {'WD': 2525, 'New': 239, 'COD': 87, 'ConLD': 2...   \n",
       "SaleCondition                     {'Normal': 2402, 'Partial': 245, 'Abnorml': 19...   \n",
       "HeatingQC                         {'Ex': 1493, 'TA': 857, 'Gd': 474, 'Fa': 92, '...   \n",
       "LandSlope                                      {'Gtl': 2778, 'Mod': 125, 'Sev': 16}   \n",
       "HouseStyle                        {'1Story': 1471, '2Story': 872, '1.5Fin': 314,...   \n",
       "BldgType                          {'1Fam': 2425, 'TwnhsE': 227, 'Duplex': 109, '...   \n",
       "Condition2                        {'Norm': 2889, 'Feedr': 13, 'Artery': 5, 'PosA...   \n",
       "Condition1                        {'Norm': 2511, 'Feedr': 164, 'Artery': 92, 'RR...   \n",
       "Neighborhood                      {'NAmes': 443, 'CollgCr': 267, 'OldTown': 239,...   \n",
       "LotConfig                         {'Inside': 2133, 'Corner': 511, 'CulDSac': 176...   \n",
       "Utilities                                             {'AllPub': 2916, 'NoSeWa': 1}   \n",
       "LandContour                        {'Lvl': 2622, 'HLS': 120, 'Bnk': 117, 'Low': 60}   \n",
       "LotShape                            {'Reg': 1859, 'IR1': 968, 'IR2': 76, 'IR3': 16}   \n",
       "Street                                                   {'Pave': 2907, 'Grvl': 12}   \n",
       "MSZoning                          {'RL': 2265, 'RM': 460, 'FV': 139, 'RH': 26, '...   \n",
       "CentralAir                                                    {'Y': 2723, 'N': 196}   \n",
       "Heating                           {'GasA': 2874, 'GasW': 27, 'Grav': 9, 'Wall': ...   \n",
       "RoofStyle                         {'Gable': 2310, 'Hip': 551, 'Gambrel': 22, 'Fl...   \n",
       "Foundation                        {'PConc': 1308, 'CBlock': 1235, 'BrkTil': 311,...   \n",
       "ExterCond                         {'TA': 2538, 'Gd': 299, 'Fa': 67, 'Ex': 12, 'P...   \n",
       "ExterQual                              {'TA': 1798, 'Gd': 979, 'Ex': 107, 'Fa': 35}   \n",
       "Exterior2nd                       {'VinylSd': 1014, 'MetalSd': 447, 'HdBoard': 4...   \n",
       "Exterior1st                       {'VinylSd': 1025, 'MetalSd': 450, 'HdBoard': 4...   \n",
       "RoofMatl                          {'CompShg': 2876, 'Tar&Grv': 23, 'WdShake': 9,...   \n",
       "\n",
       "                                  Number of unique values  mode  \n",
       "Catg columns with missing values                                 \n",
       "PoolQC                                                  3     4  \n",
       "MiscFeature                                             4    95  \n",
       "Alley                                                   2   120  \n",
       "Fence                                                   4   329  \n",
       "FireplaceQu                                             5   744  \n",
       "GarageCond                                              5  2654  \n",
       "GarageType                                              6  1723  \n",
       "GarageFinish                                            3  1230  \n",
       "GarageQual                                              5  2604  \n",
       "BsmtFinType2                                            6  2493  \n",
       "BsmtExposure                                            4  1904  \n",
       "BsmtQual                                                4  1283  \n",
       "BsmtCond                                                4  2606  \n",
       "BsmtFinType1                                            6   851  \n",
       "MasVnrType                                              4  1742  \n",
       "Electrical                                              5  2671  \n",
       "Functional                                              7  2717  \n",
       "KitchenQual                                             4  1492  \n",
       "PavedDrive                                              3  2641  \n",
       "SaleType                                                9  2525  \n",
       "SaleCondition                                           6  2402  \n",
       "HeatingQC                                               5  1493  \n",
       "LandSlope                                               3  2778  \n",
       "HouseStyle                                              8  1471  \n",
       "BldgType                                                5  2425  \n",
       "Condition2                                              8  2889  \n",
       "Condition1                                              9  2511  \n",
       "Neighborhood                                           25   443  \n",
       "LotConfig                                               5  2133  \n",
       "Utilities                                               2  2916  \n",
       "LandContour                                             4  2622  \n",
       "LotShape                                                4  1859  \n",
       "Street                                                  2  2907  \n",
       "MSZoning                                                5  2265  \n",
       "CentralAir                                              2  2723  \n",
       "Heating                                                 6  2874  \n",
       "RoofStyle                                               6  2310  \n",
       "Foundation                                              6  1308  \n",
       "ExterCond                                               5  2538  \n",
       "ExterQual                                               4  1798  \n",
       "Exterior2nd                                            16  1014  \n",
       "Exterior1st                                            15  1025  \n",
       "RoofMatl                                                8  2876  "
      ]
     },
     "execution_count": 375,
     "metadata": {},
     "output_type": "execute_result"
    }
   ],
   "source": [
    "df_catg_valuecounts"
   ]
  },
  {
   "cell_type": "code",
   "execution_count": null,
   "metadata": {},
   "outputs": [],
   "source": []
  },
  {
   "cell_type": "markdown",
   "metadata": {},
   "source": [
    "### Imputing null values in categorical columns"
   ]
  },
  {
   "cell_type": "code",
   "execution_count": 376,
   "metadata": {
    "ExecuteTime": {
     "end_time": "2020-04-03T17:03:33.964138Z",
     "start_time": "2020-04-03T17:03:33.853895Z"
    }
   },
   "outputs": [],
   "source": [
    "list_replace_mode = ['GarageCond','GarageQual','BsmtFinType2','BsmtCond','MSZoning', 'Electrical', 'PavedDrive','KitchenQual','SaleCondition',\n",
    "            'LandSlope','BldgType','Condition2','Condition1','LandContour','CentralAir','Functional',\n",
    "            'Heating','ExterCond','Street','Fence','SaleType','RoofMatl']"
   ]
  },
  {
   "cell_type": "code",
   "execution_count": 377,
   "metadata": {
    "ExecuteTime": {
     "end_time": "2020-04-03T17:03:34.188013Z",
     "start_time": "2020-04-03T17:03:33.966147Z"
    }
   },
   "outputs": [],
   "source": [
    "for col in (list_replace_mode):\n",
    "    all_data[col] = all_data[col].fillna(all_data[col].mode()[0])"
   ]
  },
  {
   "cell_type": "code",
   "execution_count": null,
   "metadata": {},
   "outputs": [],
   "source": []
  },
  {
   "cell_type": "markdown",
   "metadata": {},
   "source": [
    "Filling the remaining categorical columns with 'None'"
   ]
  },
  {
   "cell_type": "code",
   "execution_count": 378,
   "metadata": {
    "ExecuteTime": {
     "end_time": "2020-04-03T17:03:34.351088Z",
     "start_time": "2020-04-03T17:03:34.189993Z"
    }
   },
   "outputs": [],
   "source": [
    "for col in object_cols:\n",
    "    if col not in list_replace_mode:\n",
    "        all_data[col] = all_data[col].fillna('None')"
   ]
  },
  {
   "cell_type": "code",
   "execution_count": null,
   "metadata": {},
   "outputs": [],
   "source": []
  },
  {
   "cell_type": "code",
   "execution_count": 379,
   "metadata": {
    "ExecuteTime": {
     "end_time": "2020-04-03T17:03:34.494401Z",
     "start_time": "2020-04-03T17:03:34.353073Z"
    }
   },
   "outputs": [
    {
     "data": {
      "text/html": [
       "<div>\n",
       "<style scoped>\n",
       "    .dataframe tbody tr th:only-of-type {\n",
       "        vertical-align: middle;\n",
       "    }\n",
       "\n",
       "    .dataframe tbody tr th {\n",
       "        vertical-align: top;\n",
       "    }\n",
       "\n",
       "    .dataframe thead th {\n",
       "        text-align: right;\n",
       "    }\n",
       "</style>\n",
       "<table border=\"1\" class=\"dataframe\">\n",
       "  <thead>\n",
       "    <tr style=\"text-align: right;\">\n",
       "      <th></th>\n",
       "      <th>Missing Value %</th>\n",
       "      <th>Data_Type_column</th>\n",
       "    </tr>\n",
       "  </thead>\n",
       "  <tbody>\n",
       "    <tr>\n",
       "      <th>LotFrontage</th>\n",
       "      <td>16.649538</td>\n",
       "      <td>float64</td>\n",
       "    </tr>\n",
       "    <tr>\n",
       "      <th>GarageYrBlt</th>\n",
       "      <td>5.447071</td>\n",
       "      <td>float64</td>\n",
       "    </tr>\n",
       "    <tr>\n",
       "      <th>MasVnrArea</th>\n",
       "      <td>0.787941</td>\n",
       "      <td>float64</td>\n",
       "    </tr>\n",
       "    <tr>\n",
       "      <th>BsmtHalfBath</th>\n",
       "      <td>0.068517</td>\n",
       "      <td>float64</td>\n",
       "    </tr>\n",
       "    <tr>\n",
       "      <th>BsmtFullBath</th>\n",
       "      <td>0.068517</td>\n",
       "      <td>float64</td>\n",
       "    </tr>\n",
       "    <tr>\n",
       "      <th>GarageCars</th>\n",
       "      <td>0.034258</td>\n",
       "      <td>float64</td>\n",
       "    </tr>\n",
       "    <tr>\n",
       "      <th>GarageArea</th>\n",
       "      <td>0.034258</td>\n",
       "      <td>float64</td>\n",
       "    </tr>\n",
       "    <tr>\n",
       "      <th>TotalBsmtSF</th>\n",
       "      <td>0.034258</td>\n",
       "      <td>float64</td>\n",
       "    </tr>\n",
       "    <tr>\n",
       "      <th>BsmtFinSF1</th>\n",
       "      <td>0.034258</td>\n",
       "      <td>float64</td>\n",
       "    </tr>\n",
       "    <tr>\n",
       "      <th>BsmtFinSF2</th>\n",
       "      <td>0.034258</td>\n",
       "      <td>float64</td>\n",
       "    </tr>\n",
       "    <tr>\n",
       "      <th>BsmtUnfSF</th>\n",
       "      <td>0.034258</td>\n",
       "      <td>float64</td>\n",
       "    </tr>\n",
       "    <tr>\n",
       "      <th>GrLivArea</th>\n",
       "      <td>0.000000</td>\n",
       "      <td>int64</td>\n",
       "    </tr>\n",
       "    <tr>\n",
       "      <th>Functional</th>\n",
       "      <td>0.000000</td>\n",
       "      <td>object</td>\n",
       "    </tr>\n",
       "    <tr>\n",
       "      <th>FullBath</th>\n",
       "      <td>0.000000</td>\n",
       "      <td>int64</td>\n",
       "    </tr>\n",
       "    <tr>\n",
       "      <th>HalfBath</th>\n",
       "      <td>0.000000</td>\n",
       "      <td>int64</td>\n",
       "    </tr>\n",
       "  </tbody>\n",
       "</table>\n",
       "</div>"
      ],
      "text/plain": [
       "              Missing Value % Data_Type_column\n",
       "LotFrontage         16.649538          float64\n",
       "GarageYrBlt          5.447071          float64\n",
       "MasVnrArea           0.787941          float64\n",
       "BsmtHalfBath         0.068517          float64\n",
       "BsmtFullBath         0.068517          float64\n",
       "GarageCars           0.034258          float64\n",
       "GarageArea           0.034258          float64\n",
       "TotalBsmtSF          0.034258          float64\n",
       "BsmtFinSF1           0.034258          float64\n",
       "BsmtFinSF2           0.034258          float64\n",
       "BsmtUnfSF            0.034258          float64\n",
       "GrLivArea            0.000000            int64\n",
       "Functional           0.000000           object\n",
       "FullBath             0.000000            int64\n",
       "HalfBath             0.000000            int64"
      ]
     },
     "execution_count": 379,
     "metadata": {},
     "output_type": "execute_result"
    }
   ],
   "source": [
    "t = all_data.isnull().sum()/len(all_data)*100\n",
    "missing_all_data = pd.DataFrame({'Missing Value %' :t}).sort_values('Missing Value %',ascending=False)\n",
    "missing_all_data['Data_Type_column'] = missing_all_data.index.map(dict_data_types)\n",
    "missing_all_data.head(15)"
   ]
  },
  {
   "cell_type": "code",
   "execution_count": null,
   "metadata": {},
   "outputs": [],
   "source": []
  },
  {
   "cell_type": "markdown",
   "metadata": {},
   "source": [
    "### Imputing numeric columns"
   ]
  },
  {
   "cell_type": "markdown",
   "metadata": {},
   "source": [
    "<b>"
   ]
  },
  {
   "cell_type": "markdown",
   "metadata": {},
   "source": [
    "<font size ='3'>Since the area of each street connected to the house property most likely have a similar area to other houses in its neighborhood, we can fill in missing values by the median LotFrontage of the neighborhood</font>"
   ]
  },
  {
   "cell_type": "code",
   "execution_count": 380,
   "metadata": {
    "ExecuteTime": {
     "end_time": "2020-04-03T17:03:34.828308Z",
     "start_time": "2020-04-03T17:03:34.496399Z"
    }
   },
   "outputs": [],
   "source": [
    "all_data[\"LotFrontage\"] = all_data.groupby(\"Neighborhood\")[\"LotFrontage\"].transform(lambda x: x.fillna(x.median()))"
   ]
  },
  {
   "cell_type": "code",
   "execution_count": null,
   "metadata": {},
   "outputs": [],
   "source": []
  },
  {
   "cell_type": "code",
   "execution_count": 381,
   "metadata": {
    "ExecuteTime": {
     "end_time": "2020-04-03T17:03:34.927507Z",
     "start_time": "2020-04-03T17:03:34.830266Z"
    }
   },
   "outputs": [],
   "source": [
    "for col in ('GarageArea', 'GarageCars','GarageYrBlt','BsmtHalfBath','BsmtFullBath'):\n",
    "    all_data[col] = all_data[col].fillna(all_data[col].median())"
   ]
  },
  {
   "cell_type": "code",
   "execution_count": 382,
   "metadata": {
    "ExecuteTime": {
     "end_time": "2020-04-03T17:03:35.087230Z",
     "start_time": "2020-04-03T17:03:34.929452Z"
    }
   },
   "outputs": [],
   "source": [
    "for col in ('BsmtFinSF1', 'BsmtFinSF2', 'BsmtUnfSF','TotalBsmtSF'):\n",
    "    all_data[col] = all_data[col].fillna(all_data[col].mean())"
   ]
  },
  {
   "cell_type": "code",
   "execution_count": 383,
   "metadata": {
    "ExecuteTime": {
     "end_time": "2020-04-03T17:03:35.240790Z",
     "start_time": "2020-04-03T17:03:35.089230Z"
    }
   },
   "outputs": [],
   "source": [
    "all_data[\"MasVnrArea\"] = all_data[\"MasVnrArea\"].fillna(0)"
   ]
  },
  {
   "cell_type": "code",
   "execution_count": null,
   "metadata": {},
   "outputs": [],
   "source": []
  },
  {
   "cell_type": "code",
   "execution_count": 384,
   "metadata": {
    "ExecuteTime": {
     "end_time": "2020-04-03T17:03:35.431729Z",
     "start_time": "2020-04-03T17:03:35.242998Z"
    }
   },
   "outputs": [
    {
     "data": {
      "text/html": [
       "<div>\n",
       "<style scoped>\n",
       "    .dataframe tbody tr th:only-of-type {\n",
       "        vertical-align: middle;\n",
       "    }\n",
       "\n",
       "    .dataframe tbody tr th {\n",
       "        vertical-align: top;\n",
       "    }\n",
       "\n",
       "    .dataframe thead th {\n",
       "        text-align: right;\n",
       "    }\n",
       "</style>\n",
       "<table border=\"1\" class=\"dataframe\">\n",
       "  <thead>\n",
       "    <tr style=\"text-align: right;\">\n",
       "      <th></th>\n",
       "      <th>Missing Value %</th>\n",
       "      <th>Data_Type_column</th>\n",
       "    </tr>\n",
       "  </thead>\n",
       "  <tbody>\n",
       "    <tr>\n",
       "      <th>Id</th>\n",
       "      <td>0.0</td>\n",
       "      <td>int64</td>\n",
       "    </tr>\n",
       "    <tr>\n",
       "      <th>MSSubClass</th>\n",
       "      <td>0.0</td>\n",
       "      <td>int64</td>\n",
       "    </tr>\n",
       "    <tr>\n",
       "      <th>Functional</th>\n",
       "      <td>0.0</td>\n",
       "      <td>object</td>\n",
       "    </tr>\n",
       "    <tr>\n",
       "      <th>TotRmsAbvGrd</th>\n",
       "      <td>0.0</td>\n",
       "      <td>int64</td>\n",
       "    </tr>\n",
       "    <tr>\n",
       "      <th>KitchenQual</th>\n",
       "      <td>0.0</td>\n",
       "      <td>object</td>\n",
       "    </tr>\n",
       "  </tbody>\n",
       "</table>\n",
       "</div>"
      ],
      "text/plain": [
       "              Missing Value % Data_Type_column\n",
       "Id                        0.0            int64\n",
       "MSSubClass                0.0            int64\n",
       "Functional                0.0           object\n",
       "TotRmsAbvGrd              0.0            int64\n",
       "KitchenQual               0.0           object"
      ]
     },
     "execution_count": 384,
     "metadata": {},
     "output_type": "execute_result"
    }
   ],
   "source": [
    "t = all_data.isnull().sum()/len(all_data)*100\n",
    "missing_all_data = pd.DataFrame({'Missing Value %' :t}).sort_values('Missing Value %',ascending=False)\n",
    "missing_all_data['Data_Type_column'] = missing_all_data.index.map(dict_data_types)\n",
    "missing_all_data.head(5)"
   ]
  },
  {
   "cell_type": "code",
   "execution_count": null,
   "metadata": {},
   "outputs": [],
   "source": []
  },
  {
   "cell_type": "code",
   "execution_count": null,
   "metadata": {},
   "outputs": [],
   "source": []
  },
  {
   "cell_type": "markdown",
   "metadata": {},
   "source": [
    "### Coverting some continuous columns into discreet data for easier prediction "
   ]
  },
  {
   "cell_type": "code",
   "execution_count": 385,
   "metadata": {
    "ExecuteTime": {
     "end_time": "2020-04-03T17:03:35.752935Z",
     "start_time": "2020-04-03T17:03:35.433712Z"
    }
   },
   "outputs": [],
   "source": [
    "all_data['YearBuilt_group'] = pd.cut(all_data.YearBuilt, bins =[1800,1950,1975,2000,2020], labels=['Vintage','Old','Semi-Modern','Modern'])"
   ]
  },
  {
   "cell_type": "code",
   "execution_count": 386,
   "metadata": {
    "ExecuteTime": {
     "end_time": "2020-04-03T17:03:35.956877Z",
     "start_time": "2020-04-03T17:03:35.754933Z"
    }
   },
   "outputs": [],
   "source": [
    "all_data['YearRemoddled_group'] = pd.cut(all_data.YearRemodAdd, bins =[1800,1950,1975,2000,2020], labels=['Vintage','Very Old','Old','Recent'])"
   ]
  },
  {
   "cell_type": "code",
   "execution_count": 387,
   "metadata": {
    "ExecuteTime": {
     "end_time": "2020-04-03T17:03:36.176094Z",
     "start_time": "2020-04-03T17:03:35.958551Z"
    }
   },
   "outputs": [],
   "source": [
    "all_data['GrgBuilt_group'] = pd.cut(all_data.GarageYrBlt, bins =[1800,1950,1975,2000,2020], labels=['Vintage','Old','Semi-Modern','Modern'])"
   ]
  },
  {
   "cell_type": "code",
   "execution_count": null,
   "metadata": {},
   "outputs": [],
   "source": []
  },
  {
   "cell_type": "code",
   "execution_count": 388,
   "metadata": {
    "ExecuteTime": {
     "end_time": "2020-04-03T17:03:36.363590Z",
     "start_time": "2020-04-03T17:03:36.178096Z"
    }
   },
   "outputs": [],
   "source": [
    "all_data.drop(['YearBuilt','YearRemodAdd','GarageYrBlt'], axis = 1, inplace = True)"
   ]
  },
  {
   "cell_type": "code",
   "execution_count": 389,
   "metadata": {
    "ExecuteTime": {
     "end_time": "2020-04-03T17:03:36.542725Z",
     "start_time": "2020-04-03T17:03:36.365569Z"
    }
   },
   "outputs": [
    {
     "data": {
      "text/plain": [
       "(2919, 72)"
      ]
     },
     "execution_count": 389,
     "metadata": {},
     "output_type": "execute_result"
    }
   ],
   "source": [
    "all_data.shape"
   ]
  },
  {
   "cell_type": "markdown",
   "metadata": {},
   "source": [
    "<b>"
   ]
  },
  {
   "cell_type": "markdown",
   "metadata": {},
   "source": [
    "<font size = '4'> **LABEL ENCODING** categorcial columns with ordinal data </font>"
   ]
  },
  {
   "cell_type": "code",
   "execution_count": 49,
   "metadata": {
    "ExecuteTime": {
     "end_time": "2020-03-09T13:50:29.259736Z",
     "start_time": "2020-03-09T13:50:29.087808Z"
    }
   },
   "outputs": [],
   "source": [
    "list_label_encode = ['BsmtQual','BsmtCond','BsmtExposure', 'BsmtFinType1', 'BsmtFinSF1','BsmtFinType2','ExterQual','ExterCond','CentralAir','GarageQual','GarageCond','GarageFinish','FireplaceQu','HeatingQC','KitchenQual']"
   ]
  },
  {
   "cell_type": "code",
   "execution_count": 50,
   "metadata": {
    "ExecuteTime": {
     "end_time": "2020-03-09T13:50:30.827136Z",
     "start_time": "2020-03-09T13:50:29.262738Z"
    }
   },
   "outputs": [],
   "source": [
    "from sklearn import preprocessing"
   ]
  },
  {
   "cell_type": "code",
   "execution_count": 51,
   "metadata": {
    "ExecuteTime": {
     "end_time": "2020-03-09T13:50:30.837131Z",
     "start_time": "2020-03-09T13:50:30.829136Z"
    }
   },
   "outputs": [],
   "source": [
    "label_encoder = preprocessing.LabelEncoder() "
   ]
  },
  {
   "cell_type": "code",
   "execution_count": 52,
   "metadata": {
    "ExecuteTime": {
     "end_time": "2020-03-09T13:50:30.972703Z",
     "start_time": "2020-03-09T13:50:30.843127Z"
    }
   },
   "outputs": [],
   "source": [
    "for i in list_label_encode:\n",
    "     all_data[i]= label_encoder.fit_transform(all_data[i])       "
   ]
  },
  {
   "cell_type": "code",
   "execution_count": 53,
   "metadata": {
    "ExecuteTime": {
     "end_time": "2020-03-09T13:50:31.071645Z",
     "start_time": "2020-03-09T13:50:30.975699Z"
    }
   },
   "outputs": [
    {
     "data": {
      "text/plain": [
       "(2919, 72)"
      ]
     },
     "execution_count": 53,
     "metadata": {},
     "output_type": "execute_result"
    }
   ],
   "source": [
    "all_data.shape"
   ]
  },
  {
   "cell_type": "markdown",
   "metadata": {},
   "source": [
    "### Getting final train and test data sets"
   ]
  },
  {
   "cell_type": "code",
   "execution_count": 54,
   "metadata": {
    "ExecuteTime": {
     "end_time": "2020-03-09T13:50:31.207566Z",
     "start_time": "2020-03-09T13:50:31.073643Z"
    }
   },
   "outputs": [],
   "source": [
    "dftrain_final = all_data.head(1460)"
   ]
  },
  {
   "cell_type": "code",
   "execution_count": 55,
   "metadata": {
    "ExecuteTime": {
     "end_time": "2020-03-09T13:50:31.343489Z",
     "start_time": "2020-03-09T13:50:31.209565Z"
    }
   },
   "outputs": [
    {
     "data": {
      "text/plain": [
       "(1460, 72)"
      ]
     },
     "execution_count": 55,
     "metadata": {},
     "output_type": "execute_result"
    }
   ],
   "source": [
    "dftrain_final.shape"
   ]
  },
  {
   "cell_type": "code",
   "execution_count": 56,
   "metadata": {
    "ExecuteTime": {
     "end_time": "2020-03-09T13:50:31.546255Z",
     "start_time": "2020-03-09T13:50:31.346486Z"
    }
   },
   "outputs": [
    {
     "data": {
      "text/html": [
       "<div>\n",
       "<style scoped>\n",
       "    .dataframe tbody tr th:only-of-type {\n",
       "        vertical-align: middle;\n",
       "    }\n",
       "\n",
       "    .dataframe tbody tr th {\n",
       "        vertical-align: top;\n",
       "    }\n",
       "\n",
       "    .dataframe thead th {\n",
       "        text-align: right;\n",
       "    }\n",
       "</style>\n",
       "<table border=\"1\" class=\"dataframe\">\n",
       "  <thead>\n",
       "    <tr style=\"text-align: right;\">\n",
       "      <th></th>\n",
       "      <th>Id</th>\n",
       "      <th>MSSubClass</th>\n",
       "      <th>MSZoning</th>\n",
       "      <th>LotFrontage</th>\n",
       "      <th>LotArea</th>\n",
       "      <th>Street</th>\n",
       "      <th>LotShape</th>\n",
       "      <th>LandContour</th>\n",
       "      <th>LotConfig</th>\n",
       "      <th>LandSlope</th>\n",
       "      <th>...</th>\n",
       "      <th>EnclosedPorch</th>\n",
       "      <th>ScreenPorch</th>\n",
       "      <th>Fence</th>\n",
       "      <th>MoSold</th>\n",
       "      <th>YrSold</th>\n",
       "      <th>SaleType</th>\n",
       "      <th>SaleCondition</th>\n",
       "      <th>YearBuilt_group</th>\n",
       "      <th>YearRemoddled_group</th>\n",
       "      <th>GrgBuilt_group</th>\n",
       "    </tr>\n",
       "  </thead>\n",
       "  <tbody>\n",
       "    <tr>\n",
       "      <th>0</th>\n",
       "      <td>1</td>\n",
       "      <td>60</td>\n",
       "      <td>RL</td>\n",
       "      <td>65.0</td>\n",
       "      <td>8450</td>\n",
       "      <td>Pave</td>\n",
       "      <td>Reg</td>\n",
       "      <td>Lvl</td>\n",
       "      <td>Inside</td>\n",
       "      <td>Gtl</td>\n",
       "      <td>...</td>\n",
       "      <td>0</td>\n",
       "      <td>0</td>\n",
       "      <td>None</td>\n",
       "      <td>2</td>\n",
       "      <td>2008</td>\n",
       "      <td>WD</td>\n",
       "      <td>Normal</td>\n",
       "      <td>Modern</td>\n",
       "      <td>Recent</td>\n",
       "      <td>Modern</td>\n",
       "    </tr>\n",
       "    <tr>\n",
       "      <th>1</th>\n",
       "      <td>2</td>\n",
       "      <td>20</td>\n",
       "      <td>RL</td>\n",
       "      <td>80.0</td>\n",
       "      <td>9600</td>\n",
       "      <td>Pave</td>\n",
       "      <td>Reg</td>\n",
       "      <td>Lvl</td>\n",
       "      <td>FR2</td>\n",
       "      <td>Gtl</td>\n",
       "      <td>...</td>\n",
       "      <td>0</td>\n",
       "      <td>0</td>\n",
       "      <td>None</td>\n",
       "      <td>5</td>\n",
       "      <td>2007</td>\n",
       "      <td>WD</td>\n",
       "      <td>Normal</td>\n",
       "      <td>Semi-Modern</td>\n",
       "      <td>Old</td>\n",
       "      <td>Semi-Modern</td>\n",
       "    </tr>\n",
       "    <tr>\n",
       "      <th>2</th>\n",
       "      <td>3</td>\n",
       "      <td>60</td>\n",
       "      <td>RL</td>\n",
       "      <td>68.0</td>\n",
       "      <td>11250</td>\n",
       "      <td>Pave</td>\n",
       "      <td>IR1</td>\n",
       "      <td>Lvl</td>\n",
       "      <td>Inside</td>\n",
       "      <td>Gtl</td>\n",
       "      <td>...</td>\n",
       "      <td>0</td>\n",
       "      <td>0</td>\n",
       "      <td>None</td>\n",
       "      <td>9</td>\n",
       "      <td>2008</td>\n",
       "      <td>WD</td>\n",
       "      <td>Normal</td>\n",
       "      <td>Modern</td>\n",
       "      <td>Recent</td>\n",
       "      <td>Modern</td>\n",
       "    </tr>\n",
       "    <tr>\n",
       "      <th>3</th>\n",
       "      <td>4</td>\n",
       "      <td>70</td>\n",
       "      <td>RL</td>\n",
       "      <td>60.0</td>\n",
       "      <td>9550</td>\n",
       "      <td>Pave</td>\n",
       "      <td>IR1</td>\n",
       "      <td>Lvl</td>\n",
       "      <td>Corner</td>\n",
       "      <td>Gtl</td>\n",
       "      <td>...</td>\n",
       "      <td>272</td>\n",
       "      <td>0</td>\n",
       "      <td>None</td>\n",
       "      <td>2</td>\n",
       "      <td>2006</td>\n",
       "      <td>WD</td>\n",
       "      <td>Abnorml</td>\n",
       "      <td>Vintage</td>\n",
       "      <td>Very Old</td>\n",
       "      <td>Semi-Modern</td>\n",
       "    </tr>\n",
       "    <tr>\n",
       "      <th>4</th>\n",
       "      <td>5</td>\n",
       "      <td>60</td>\n",
       "      <td>RL</td>\n",
       "      <td>84.0</td>\n",
       "      <td>14260</td>\n",
       "      <td>Pave</td>\n",
       "      <td>IR1</td>\n",
       "      <td>Lvl</td>\n",
       "      <td>FR2</td>\n",
       "      <td>Gtl</td>\n",
       "      <td>...</td>\n",
       "      <td>0</td>\n",
       "      <td>0</td>\n",
       "      <td>None</td>\n",
       "      <td>12</td>\n",
       "      <td>2008</td>\n",
       "      <td>WD</td>\n",
       "      <td>Normal</td>\n",
       "      <td>Semi-Modern</td>\n",
       "      <td>Old</td>\n",
       "      <td>Semi-Modern</td>\n",
       "    </tr>\n",
       "  </tbody>\n",
       "</table>\n",
       "<p>5 rows × 72 columns</p>\n",
       "</div>"
      ],
      "text/plain": [
       "   Id  MSSubClass MSZoning  LotFrontage  LotArea Street LotShape LandContour  \\\n",
       "0   1          60       RL         65.0     8450   Pave      Reg         Lvl   \n",
       "1   2          20       RL         80.0     9600   Pave      Reg         Lvl   \n",
       "2   3          60       RL         68.0    11250   Pave      IR1         Lvl   \n",
       "3   4          70       RL         60.0     9550   Pave      IR1         Lvl   \n",
       "4   5          60       RL         84.0    14260   Pave      IR1         Lvl   \n",
       "\n",
       "  LotConfig LandSlope  ... EnclosedPorch ScreenPorch Fence MoSold YrSold  \\\n",
       "0    Inside       Gtl  ...             0           0  None      2   2008   \n",
       "1       FR2       Gtl  ...             0           0  None      5   2007   \n",
       "2    Inside       Gtl  ...             0           0  None      9   2008   \n",
       "3    Corner       Gtl  ...           272           0  None      2   2006   \n",
       "4       FR2       Gtl  ...             0           0  None     12   2008   \n",
       "\n",
       "   SaleType  SaleCondition YearBuilt_group YearRemoddled_group GrgBuilt_group  \n",
       "0        WD         Normal          Modern              Recent         Modern  \n",
       "1        WD         Normal     Semi-Modern                 Old    Semi-Modern  \n",
       "2        WD         Normal          Modern              Recent         Modern  \n",
       "3        WD        Abnorml         Vintage            Very Old    Semi-Modern  \n",
       "4        WD         Normal     Semi-Modern                 Old    Semi-Modern  \n",
       "\n",
       "[5 rows x 72 columns]"
      ]
     },
     "execution_count": 56,
     "metadata": {},
     "output_type": "execute_result"
    }
   ],
   "source": [
    "dftrain_final.head()"
   ]
  },
  {
   "cell_type": "code",
   "execution_count": null,
   "metadata": {},
   "outputs": [],
   "source": []
  },
  {
   "cell_type": "code",
   "execution_count": 415,
   "metadata": {
    "ExecuteTime": {
     "end_time": "2020-03-10T16:28:10.470517Z",
     "start_time": "2020-03-10T16:28:10.460525Z"
    }
   },
   "outputs": [],
   "source": [
    "dftest_final = all_data.tail(1459)\n",
    "dftest_final = dftest_final.reset_index(drop=True)"
   ]
  },
  {
   "cell_type": "code",
   "execution_count": 416,
   "metadata": {
    "ExecuteTime": {
     "end_time": "2020-03-10T16:28:12.076228Z",
     "start_time": "2020-03-10T16:28:12.038317Z"
    }
   },
   "outputs": [
    {
     "data": {
      "text/html": [
       "<div>\n",
       "<style scoped>\n",
       "    .dataframe tbody tr th:only-of-type {\n",
       "        vertical-align: middle;\n",
       "    }\n",
       "\n",
       "    .dataframe tbody tr th {\n",
       "        vertical-align: top;\n",
       "    }\n",
       "\n",
       "    .dataframe thead th {\n",
       "        text-align: right;\n",
       "    }\n",
       "</style>\n",
       "<table border=\"1\" class=\"dataframe\">\n",
       "  <thead>\n",
       "    <tr style=\"text-align: right;\">\n",
       "      <th></th>\n",
       "      <th>Id</th>\n",
       "      <th>MSSubClass</th>\n",
       "      <th>MSZoning</th>\n",
       "      <th>LotFrontage</th>\n",
       "      <th>LotArea</th>\n",
       "      <th>Street</th>\n",
       "      <th>LotShape</th>\n",
       "      <th>LandContour</th>\n",
       "      <th>LotConfig</th>\n",
       "      <th>LandSlope</th>\n",
       "      <th>...</th>\n",
       "      <th>EnclosedPorch</th>\n",
       "      <th>ScreenPorch</th>\n",
       "      <th>Fence</th>\n",
       "      <th>MoSold</th>\n",
       "      <th>YrSold</th>\n",
       "      <th>SaleType</th>\n",
       "      <th>SaleCondition</th>\n",
       "      <th>YearBuilt_group</th>\n",
       "      <th>YearRemoddled_group</th>\n",
       "      <th>GrgBuilt_group</th>\n",
       "    </tr>\n",
       "  </thead>\n",
       "  <tbody>\n",
       "    <tr>\n",
       "      <th>0</th>\n",
       "      <td>1461</td>\n",
       "      <td>20</td>\n",
       "      <td>RH</td>\n",
       "      <td>80.0</td>\n",
       "      <td>11622</td>\n",
       "      <td>Pave</td>\n",
       "      <td>Reg</td>\n",
       "      <td>Lvl</td>\n",
       "      <td>Inside</td>\n",
       "      <td>Gtl</td>\n",
       "      <td>...</td>\n",
       "      <td>0</td>\n",
       "      <td>120</td>\n",
       "      <td>MnPrv</td>\n",
       "      <td>6</td>\n",
       "      <td>2010</td>\n",
       "      <td>WD</td>\n",
       "      <td>Normal</td>\n",
       "      <td>Old</td>\n",
       "      <td>Very Old</td>\n",
       "      <td>Old</td>\n",
       "    </tr>\n",
       "    <tr>\n",
       "      <th>1</th>\n",
       "      <td>1462</td>\n",
       "      <td>20</td>\n",
       "      <td>RL</td>\n",
       "      <td>81.0</td>\n",
       "      <td>14267</td>\n",
       "      <td>Pave</td>\n",
       "      <td>IR1</td>\n",
       "      <td>Lvl</td>\n",
       "      <td>Corner</td>\n",
       "      <td>Gtl</td>\n",
       "      <td>...</td>\n",
       "      <td>0</td>\n",
       "      <td>0</td>\n",
       "      <td>None</td>\n",
       "      <td>6</td>\n",
       "      <td>2010</td>\n",
       "      <td>WD</td>\n",
       "      <td>Normal</td>\n",
       "      <td>Old</td>\n",
       "      <td>Very Old</td>\n",
       "      <td>Old</td>\n",
       "    </tr>\n",
       "    <tr>\n",
       "      <th>2</th>\n",
       "      <td>1463</td>\n",
       "      <td>60</td>\n",
       "      <td>RL</td>\n",
       "      <td>74.0</td>\n",
       "      <td>13830</td>\n",
       "      <td>Pave</td>\n",
       "      <td>IR1</td>\n",
       "      <td>Lvl</td>\n",
       "      <td>Inside</td>\n",
       "      <td>Gtl</td>\n",
       "      <td>...</td>\n",
       "      <td>0</td>\n",
       "      <td>0</td>\n",
       "      <td>MnPrv</td>\n",
       "      <td>3</td>\n",
       "      <td>2010</td>\n",
       "      <td>WD</td>\n",
       "      <td>Normal</td>\n",
       "      <td>Semi-Modern</td>\n",
       "      <td>Old</td>\n",
       "      <td>Semi-Modern</td>\n",
       "    </tr>\n",
       "    <tr>\n",
       "      <th>3</th>\n",
       "      <td>1464</td>\n",
       "      <td>60</td>\n",
       "      <td>RL</td>\n",
       "      <td>78.0</td>\n",
       "      <td>9978</td>\n",
       "      <td>Pave</td>\n",
       "      <td>IR1</td>\n",
       "      <td>Lvl</td>\n",
       "      <td>Inside</td>\n",
       "      <td>Gtl</td>\n",
       "      <td>...</td>\n",
       "      <td>0</td>\n",
       "      <td>0</td>\n",
       "      <td>None</td>\n",
       "      <td>6</td>\n",
       "      <td>2010</td>\n",
       "      <td>WD</td>\n",
       "      <td>Normal</td>\n",
       "      <td>Semi-Modern</td>\n",
       "      <td>Old</td>\n",
       "      <td>Semi-Modern</td>\n",
       "    </tr>\n",
       "    <tr>\n",
       "      <th>4</th>\n",
       "      <td>1465</td>\n",
       "      <td>120</td>\n",
       "      <td>RL</td>\n",
       "      <td>43.0</td>\n",
       "      <td>5005</td>\n",
       "      <td>Pave</td>\n",
       "      <td>IR1</td>\n",
       "      <td>HLS</td>\n",
       "      <td>Inside</td>\n",
       "      <td>Gtl</td>\n",
       "      <td>...</td>\n",
       "      <td>0</td>\n",
       "      <td>144</td>\n",
       "      <td>None</td>\n",
       "      <td>1</td>\n",
       "      <td>2010</td>\n",
       "      <td>WD</td>\n",
       "      <td>Normal</td>\n",
       "      <td>Semi-Modern</td>\n",
       "      <td>Old</td>\n",
       "      <td>Semi-Modern</td>\n",
       "    </tr>\n",
       "  </tbody>\n",
       "</table>\n",
       "<p>5 rows × 72 columns</p>\n",
       "</div>"
      ],
      "text/plain": [
       "     Id  MSSubClass MSZoning  LotFrontage  LotArea Street LotShape  \\\n",
       "0  1461          20       RH         80.0    11622   Pave      Reg   \n",
       "1  1462          20       RL         81.0    14267   Pave      IR1   \n",
       "2  1463          60       RL         74.0    13830   Pave      IR1   \n",
       "3  1464          60       RL         78.0     9978   Pave      IR1   \n",
       "4  1465         120       RL         43.0     5005   Pave      IR1   \n",
       "\n",
       "  LandContour LotConfig LandSlope  ... EnclosedPorch ScreenPorch  Fence  \\\n",
       "0         Lvl    Inside       Gtl  ...             0         120  MnPrv   \n",
       "1         Lvl    Corner       Gtl  ...             0           0   None   \n",
       "2         Lvl    Inside       Gtl  ...             0           0  MnPrv   \n",
       "3         Lvl    Inside       Gtl  ...             0           0   None   \n",
       "4         HLS    Inside       Gtl  ...             0         144   None   \n",
       "\n",
       "  MoSold YrSold  SaleType  SaleCondition YearBuilt_group YearRemoddled_group  \\\n",
       "0      6   2010        WD         Normal             Old            Very Old   \n",
       "1      6   2010        WD         Normal             Old            Very Old   \n",
       "2      3   2010        WD         Normal     Semi-Modern                 Old   \n",
       "3      6   2010        WD         Normal     Semi-Modern                 Old   \n",
       "4      1   2010        WD         Normal     Semi-Modern                 Old   \n",
       "\n",
       "  GrgBuilt_group  \n",
       "0            Old  \n",
       "1            Old  \n",
       "2    Semi-Modern  \n",
       "3    Semi-Modern  \n",
       "4    Semi-Modern  \n",
       "\n",
       "[5 rows x 72 columns]"
      ]
     },
     "execution_count": 416,
     "metadata": {},
     "output_type": "execute_result"
    }
   ],
   "source": [
    "dftest_final.head()"
   ]
  },
  {
   "cell_type": "code",
   "execution_count": 417,
   "metadata": {
    "ExecuteTime": {
     "end_time": "2020-03-10T16:28:13.593550Z",
     "start_time": "2020-03-10T16:28:13.585554Z"
    }
   },
   "outputs": [
    {
     "data": {
      "text/plain": [
       "(1459, 72)"
      ]
     },
     "execution_count": 417,
     "metadata": {},
     "output_type": "execute_result"
    }
   ],
   "source": [
    "dftest_final.shape"
   ]
  },
  {
   "cell_type": "code",
   "execution_count": null,
   "metadata": {},
   "outputs": [],
   "source": []
  },
  {
   "cell_type": "markdown",
   "metadata": {},
   "source": [
    "<font size ='4'>**ONE HOT ENCODING**</FONT>"
   ]
  },
  {
   "cell_type": "code",
   "execution_count": 60,
   "metadata": {
    "ExecuteTime": {
     "end_time": "2020-03-09T13:50:32.594588Z",
     "start_time": "2020-03-09T13:50:32.261964Z"
    }
   },
   "outputs": [
    {
     "data": {
      "text/plain": [
       "(1460, 212)"
      ]
     },
     "execution_count": 60,
     "metadata": {},
     "output_type": "execute_result"
    }
   ],
   "source": [
    "df6 = pd.get_dummies(dftrain_final,drop_first = True)\n",
    "df6.shape"
   ]
  },
  {
   "cell_type": "code",
   "execution_count": 101,
   "metadata": {
    "ExecuteTime": {
     "end_time": "2020-03-10T13:25:53.511854Z",
     "start_time": "2020-03-10T13:25:53.488869Z"
    }
   },
   "outputs": [
    {
     "data": {
      "text/html": [
       "<div>\n",
       "<style scoped>\n",
       "    .dataframe tbody tr th:only-of-type {\n",
       "        vertical-align: middle;\n",
       "    }\n",
       "\n",
       "    .dataframe tbody tr th {\n",
       "        vertical-align: top;\n",
       "    }\n",
       "\n",
       "    .dataframe thead th {\n",
       "        text-align: right;\n",
       "    }\n",
       "</style>\n",
       "<table border=\"1\" class=\"dataframe\">\n",
       "  <thead>\n",
       "    <tr style=\"text-align: right;\">\n",
       "      <th></th>\n",
       "      <th>Id</th>\n",
       "      <th>MSSubClass</th>\n",
       "      <th>LotFrontage</th>\n",
       "      <th>LotArea</th>\n",
       "      <th>OverallQual</th>\n",
       "      <th>OverallCond</th>\n",
       "      <th>MasVnrArea</th>\n",
       "      <th>ExterQual</th>\n",
       "      <th>ExterCond</th>\n",
       "      <th>BsmtQual</th>\n",
       "      <th>...</th>\n",
       "      <th>SaleCondition_Partial</th>\n",
       "      <th>YearBuilt_group_Old</th>\n",
       "      <th>YearBuilt_group_Semi-Modern</th>\n",
       "      <th>YearBuilt_group_Modern</th>\n",
       "      <th>YearRemoddled_group_Very Old</th>\n",
       "      <th>YearRemoddled_group_Old</th>\n",
       "      <th>YearRemoddled_group_Recent</th>\n",
       "      <th>GrgBuilt_group_Old</th>\n",
       "      <th>GrgBuilt_group_Semi-Modern</th>\n",
       "      <th>GrgBuilt_group_Modern</th>\n",
       "    </tr>\n",
       "  </thead>\n",
       "  <tbody>\n",
       "    <tr>\n",
       "      <th>0</th>\n",
       "      <td>1</td>\n",
       "      <td>60</td>\n",
       "      <td>65.0</td>\n",
       "      <td>8450</td>\n",
       "      <td>7</td>\n",
       "      <td>5</td>\n",
       "      <td>196.0</td>\n",
       "      <td>2</td>\n",
       "      <td>4</td>\n",
       "      <td>2</td>\n",
       "      <td>...</td>\n",
       "      <td>0</td>\n",
       "      <td>0</td>\n",
       "      <td>0</td>\n",
       "      <td>1</td>\n",
       "      <td>0</td>\n",
       "      <td>0</td>\n",
       "      <td>1</td>\n",
       "      <td>0</td>\n",
       "      <td>0</td>\n",
       "      <td>1</td>\n",
       "    </tr>\n",
       "    <tr>\n",
       "      <th>1</th>\n",
       "      <td>2</td>\n",
       "      <td>20</td>\n",
       "      <td>80.0</td>\n",
       "      <td>9600</td>\n",
       "      <td>6</td>\n",
       "      <td>8</td>\n",
       "      <td>0.0</td>\n",
       "      <td>3</td>\n",
       "      <td>4</td>\n",
       "      <td>2</td>\n",
       "      <td>...</td>\n",
       "      <td>0</td>\n",
       "      <td>0</td>\n",
       "      <td>1</td>\n",
       "      <td>0</td>\n",
       "      <td>0</td>\n",
       "      <td>1</td>\n",
       "      <td>0</td>\n",
       "      <td>0</td>\n",
       "      <td>1</td>\n",
       "      <td>0</td>\n",
       "    </tr>\n",
       "    <tr>\n",
       "      <th>2</th>\n",
       "      <td>3</td>\n",
       "      <td>60</td>\n",
       "      <td>68.0</td>\n",
       "      <td>11250</td>\n",
       "      <td>7</td>\n",
       "      <td>5</td>\n",
       "      <td>162.0</td>\n",
       "      <td>2</td>\n",
       "      <td>4</td>\n",
       "      <td>2</td>\n",
       "      <td>...</td>\n",
       "      <td>0</td>\n",
       "      <td>0</td>\n",
       "      <td>0</td>\n",
       "      <td>1</td>\n",
       "      <td>0</td>\n",
       "      <td>0</td>\n",
       "      <td>1</td>\n",
       "      <td>0</td>\n",
       "      <td>0</td>\n",
       "      <td>1</td>\n",
       "    </tr>\n",
       "    <tr>\n",
       "      <th>3</th>\n",
       "      <td>4</td>\n",
       "      <td>70</td>\n",
       "      <td>60.0</td>\n",
       "      <td>9550</td>\n",
       "      <td>7</td>\n",
       "      <td>5</td>\n",
       "      <td>0.0</td>\n",
       "      <td>3</td>\n",
       "      <td>4</td>\n",
       "      <td>4</td>\n",
       "      <td>...</td>\n",
       "      <td>0</td>\n",
       "      <td>0</td>\n",
       "      <td>0</td>\n",
       "      <td>0</td>\n",
       "      <td>1</td>\n",
       "      <td>0</td>\n",
       "      <td>0</td>\n",
       "      <td>0</td>\n",
       "      <td>1</td>\n",
       "      <td>0</td>\n",
       "    </tr>\n",
       "    <tr>\n",
       "      <th>4</th>\n",
       "      <td>5</td>\n",
       "      <td>60</td>\n",
       "      <td>84.0</td>\n",
       "      <td>14260</td>\n",
       "      <td>8</td>\n",
       "      <td>5</td>\n",
       "      <td>350.0</td>\n",
       "      <td>2</td>\n",
       "      <td>4</td>\n",
       "      <td>2</td>\n",
       "      <td>...</td>\n",
       "      <td>0</td>\n",
       "      <td>0</td>\n",
       "      <td>1</td>\n",
       "      <td>0</td>\n",
       "      <td>0</td>\n",
       "      <td>1</td>\n",
       "      <td>0</td>\n",
       "      <td>0</td>\n",
       "      <td>1</td>\n",
       "      <td>0</td>\n",
       "    </tr>\n",
       "  </tbody>\n",
       "</table>\n",
       "<p>5 rows × 212 columns</p>\n",
       "</div>"
      ],
      "text/plain": [
       "   Id  MSSubClass  LotFrontage  LotArea  OverallQual  OverallCond  MasVnrArea  \\\n",
       "0   1          60         65.0     8450            7            5       196.0   \n",
       "1   2          20         80.0     9600            6            8         0.0   \n",
       "2   3          60         68.0    11250            7            5       162.0   \n",
       "3   4          70         60.0     9550            7            5         0.0   \n",
       "4   5          60         84.0    14260            8            5       350.0   \n",
       "\n",
       "   ExterQual  ExterCond  BsmtQual  ...  SaleCondition_Partial  \\\n",
       "0          2          4         2  ...                      0   \n",
       "1          3          4         2  ...                      0   \n",
       "2          2          4         2  ...                      0   \n",
       "3          3          4         4  ...                      0   \n",
       "4          2          4         2  ...                      0   \n",
       "\n",
       "   YearBuilt_group_Old  YearBuilt_group_Semi-Modern  YearBuilt_group_Modern  \\\n",
       "0                    0                            0                       1   \n",
       "1                    0                            1                       0   \n",
       "2                    0                            0                       1   \n",
       "3                    0                            0                       0   \n",
       "4                    0                            1                       0   \n",
       "\n",
       "   YearRemoddled_group_Very Old  YearRemoddled_group_Old  \\\n",
       "0                             0                        0   \n",
       "1                             0                        1   \n",
       "2                             0                        0   \n",
       "3                             1                        0   \n",
       "4                             0                        1   \n",
       "\n",
       "   YearRemoddled_group_Recent  GrgBuilt_group_Old  GrgBuilt_group_Semi-Modern  \\\n",
       "0                           1                   0                           0   \n",
       "1                           0                   0                           1   \n",
       "2                           1                   0                           0   \n",
       "3                           0                   0                           1   \n",
       "4                           0                   0                           1   \n",
       "\n",
       "   GrgBuilt_group_Modern  \n",
       "0                      1  \n",
       "1                      0  \n",
       "2                      1  \n",
       "3                      0  \n",
       "4                      0  \n",
       "\n",
       "[5 rows x 212 columns]"
      ]
     },
     "execution_count": 101,
     "metadata": {},
     "output_type": "execute_result"
    }
   ],
   "source": [
    "df6.head()"
   ]
  },
  {
   "cell_type": "code",
   "execution_count": 61,
   "metadata": {
    "ExecuteTime": {
     "end_time": "2020-03-09T13:50:32.609559Z",
     "start_time": "2020-03-09T13:50:32.596568Z"
    }
   },
   "outputs": [],
   "source": [
    "dftrain_final = pd.concat([df6,df4], axis = 1) "
   ]
  },
  {
   "cell_type": "code",
   "execution_count": 62,
   "metadata": {
    "ExecuteTime": {
     "end_time": "2020-03-09T13:50:32.774601Z",
     "start_time": "2020-03-09T13:50:32.611559Z"
    }
   },
   "outputs": [
    {
     "data": {
      "text/plain": [
       "(1460, 213)"
      ]
     },
     "execution_count": 62,
     "metadata": {},
     "output_type": "execute_result"
    }
   ],
   "source": [
    "dftrain_final.shape"
   ]
  },
  {
   "cell_type": "markdown",
   "metadata": {},
   "source": [
    "<b>\n",
    "<b>"
   ]
  },
  {
   "cell_type": "markdown",
   "metadata": {},
   "source": [
    "<b>   "
   ]
  },
  {
   "cell_type": "code",
   "execution_count": 418,
   "metadata": {
    "ExecuteTime": {
     "end_time": "2020-03-10T16:28:25.507203Z",
     "start_time": "2020-03-10T16:28:25.412263Z"
    }
   },
   "outputs": [
    {
     "data": {
      "text/plain": [
       "(1459, 200)"
      ]
     },
     "execution_count": 418,
     "metadata": {},
     "output_type": "execute_result"
    }
   ],
   "source": [
    "df7 = pd.get_dummies(dftest_final,drop_first = True)\n",
    "df7.shape"
   ]
  },
  {
   "cell_type": "code",
   "execution_count": 64,
   "metadata": {
    "ExecuteTime": {
     "end_time": "2020-03-09T13:50:33.063223Z",
     "start_time": "2020-03-09T13:50:33.002258Z"
    }
   },
   "outputs": [],
   "source": [
    "dftest_final = df7.copy()"
   ]
  },
  {
   "cell_type": "code",
   "execution_count": null,
   "metadata": {},
   "outputs": [],
   "source": []
  },
  {
   "cell_type": "markdown",
   "metadata": {},
   "source": [
    "## Applying ML Models\n"
   ]
  },
  {
   "cell_type": "code",
   "execution_count": 65,
   "metadata": {
    "ExecuteTime": {
     "end_time": "2020-03-09T13:50:33.585627Z",
     "start_time": "2020-03-09T13:50:33.066223Z"
    }
   },
   "outputs": [],
   "source": [
    "from sklearn.pipeline import make_pipeline\n",
    "from sklearn.preprocessing import RobustScaler"
   ]
  },
  {
   "cell_type": "code",
   "execution_count": 66,
   "metadata": {
    "ExecuteTime": {
     "end_time": "2020-03-09T13:50:38.350021Z",
     "start_time": "2020-03-09T13:50:33.589622Z"
    }
   },
   "outputs": [],
   "source": [
    "from sklearn.linear_model import Lasso\n",
    "from sklearn.ensemble import RandomForestRegressor, GradientBoostingRegressor\n",
    "import xgboost as xgb\n",
    "from xgboost.sklearn import  XGBRegressor"
   ]
  },
  {
   "cell_type": "code",
   "execution_count": 345,
   "metadata": {
    "ExecuteTime": {
     "end_time": "2020-03-10T15:47:09.653675Z",
     "start_time": "2020-03-10T15:47:09.649682Z"
    }
   },
   "outputs": [],
   "source": [
    "from sklearn.model_selection import KFold, cross_val_score, cross_validate, train_test_split #For cross validation\n",
    "from sklearn import metrics\n",
    "from sklearn.metrics import mean_squared_error,make_scorer,r2_score\n",
    "from sklearn.model_selection import learning_curve, GridSearchCV ,RandomizedSearchCV"
   ]
  },
  {
   "cell_type": "code",
   "execution_count": null,
   "metadata": {},
   "outputs": [],
   "source": []
  },
  {
   "cell_type": "code",
   "execution_count": 289,
   "metadata": {
    "ExecuteTime": {
     "end_time": "2020-03-10T15:03:16.665207Z",
     "start_time": "2020-03-10T15:03:16.653209Z"
    }
   },
   "outputs": [],
   "source": [
    "x_train,x_test,y_train,y_test = train_test_split(df6,df4,test_size = 0.20)"
   ]
  },
  {
   "cell_type": "markdown",
   "metadata": {},
   "source": [
    "### Making a custom class for model deployment"
   ]
  },
  {
   "cell_type": "code",
   "execution_count": 420,
   "metadata": {
    "ExecuteTime": {
     "end_time": "2020-03-10T16:34:25.516013Z",
     "start_time": "2020-03-10T16:34:25.501024Z"
    }
   },
   "outputs": [],
   "source": [
    "class Ml_Model():\n",
    "    \n",
    "    def __init__(self,model):\n",
    "        self.X = x_train\n",
    "        self.y = y_train\n",
    "        self.X_test = x_test\n",
    "        self.y_test = y_test\n",
    "        self.X_full = df6\n",
    "        self.target = df4\n",
    "        self.model = model\n",
    "        self.kf = KFold(n_splits=5,shuffle = True, random_state=None) \n",
    "    \n",
    "    def fit_deploy(self):\n",
    "        \n",
    "        self.model.fit(self.X,self.y )\n",
    "        \n",
    "        self.predictions_train =  self.model.predict(self.X)\n",
    "        self.predictions =  self.model.predict(self.X_test)\n",
    "        print('RMSE on train set:', np.sqrt(metrics.mean_squared_error(self.y,self.predictions_train)) )\n",
    "        print('R2 score on train set:', r2_score(self.y,self.predictions_train))\n",
    "        print('RMSE on test set:', np.sqrt(metrics.mean_squared_error(self.y_test,self.predictions)) )\n",
    "        print('R2 score on test set:', r2_score(self.y_test,self.predictions))\n",
    "\n",
    "        \n",
    "    def cross_validation(self):\n",
    "        r2_scorer = make_scorer(r2_score) #This step helps us to use a custom scoring instead of default in cross validation\n",
    "        results = cross_val_score(self.model, self.X_full, self.target, cv=self.kf,scoring = r2_scorer)\n",
    "        print(\"Accuracy: %.3f%% (Std dev. %.3f%%)\" % (results.mean()*100.0, results.std()*100.0))    \n",
    "        \n",
    "    def Randomized_Search_CV(self,param_dist):\n",
    "        random_search = RandomizedSearchCV(estimator=self.model, param_distributions=param_dist, n_iter=40,cv=self.kf)\n",
    "        rs = random_search.fit(self.X,self.y)\n",
    "        \n",
    "        self.best_model = rs.best_estimator_ \n",
    "        \n",
    "        print('Best Score:', rs.best_score_)\n",
    "        print('Best Parameters:', rs.best_params_)\n",
    "        return rs.best_estimator_ \n",
    "    \n",
    "    def generate_submission_file(self,name):\n",
    "        final_prediction = self.best_model.predict(dftest_final)\n",
    "        submission = pd.DataFrame(final_prediction, columns=['SalePrice'])\n",
    "        submission_final = pd.concat([dftest_final,submission], axis=1)\n",
    "        submission_final_DataFrame = dftest_submissionTuesdayRF[['Id','SalePrice']]\n",
    "        submission_final_DataFrame.to_csv(name,index=False)\n",
    "        \n",
    "        return submission_final_DataFrame.head()\n",
    "        "
   ]
  },
  {
   "cell_type": "code",
   "execution_count": null,
   "metadata": {},
   "outputs": [],
   "source": []
  },
  {
   "cell_type": "code",
   "execution_count": null,
   "metadata": {},
   "outputs": [],
   "source": []
  },
  {
   "cell_type": "markdown",
   "metadata": {},
   "source": [
    "## Lasso Regression"
   ]
  },
  {
   "cell_type": "code",
   "execution_count": 421,
   "metadata": {
    "ExecuteTime": {
     "end_time": "2020-03-10T16:34:27.445901Z",
     "start_time": "2020-03-10T16:34:27.441904Z"
    }
   },
   "outputs": [],
   "source": [
    "# df6_L = df6.copy(deep = True)\n",
    "# # df7_L = df7.copy(deep = True)"
   ]
  },
  {
   "cell_type": "code",
   "execution_count": 422,
   "metadata": {
    "ExecuteTime": {
     "end_time": "2020-03-10T16:34:29.063076Z",
     "start_time": "2020-03-10T16:34:29.059078Z"
    }
   },
   "outputs": [],
   "source": [
    "# from sklearn.preprocessing import StandardScaler\n",
    "# scaler = StandardScaler() \n",
    "# df6_L[list_stat_data] = scaler.fit_transform(df6_L[list_stat_data])\n",
    "# df7_L[list_stat_data] = scaler.fit_transform(df7_L[list_stat_data])"
   ]
  },
  {
   "cell_type": "code",
   "execution_count": 423,
   "metadata": {
    "ExecuteTime": {
     "end_time": "2020-03-10T16:34:30.552250Z",
     "start_time": "2020-03-10T16:34:30.548252Z"
    }
   },
   "outputs": [],
   "source": [
    "# x_train_L ,x_test_L,y_train,y_test = train_test_split(df6_L,df4,test_size = 0.20)"
   ]
  },
  {
   "cell_type": "code",
   "execution_count": 435,
   "metadata": {
    "ExecuteTime": {
     "end_time": "2020-03-10T17:02:35.671258Z",
     "start_time": "2020-03-10T17:02:35.664267Z"
    }
   },
   "outputs": [
    {
     "data": {
      "text/plain": [
       "{'alpha': 0.01,\n",
       " 'copy_X': True,\n",
       " 'fit_intercept': False,\n",
       " 'max_iter': 1000000,\n",
       " 'normalize': True,\n",
       " 'positive': True,\n",
       " 'precompute': False,\n",
       " 'random_state': None,\n",
       " 'selection': 'cyclic',\n",
       " 'tol': 1e-06,\n",
       " 'warm_start': False}"
      ]
     },
     "execution_count": 435,
     "metadata": {},
     "output_type": "execute_result"
    }
   ],
   "source": [
    "lasso_reg = Lasso(alpha = 0.01,fit_intercept=False, tol=0.000001,\n",
    "          max_iter=1000000, positive=True, normalize=True)\n",
    "lasso_reg.get_params()"
   ]
  },
  {
   "cell_type": "code",
   "execution_count": 436,
   "metadata": {
    "ExecuteTime": {
     "end_time": "2020-03-10T17:02:37.320205Z",
     "start_time": "2020-03-10T17:02:37.315207Z"
    }
   },
   "outputs": [],
   "source": [
    "param_dist = {\"alpha\" : range(0,1)} #To be used in g"
   ]
  },
  {
   "cell_type": "code",
   "execution_count": 437,
   "metadata": {
    "ExecuteTime": {
     "end_time": "2020-03-10T17:02:38.916374Z",
     "start_time": "2020-03-10T17:02:38.771460Z"
    }
   },
   "outputs": [
    {
     "name": "stdout",
     "output_type": "stream",
     "text": [
      "RMSE on train set: 30182.984465276924\n",
      "R2 score on train set: 0.8590990354938534\n",
      "RMSE on test set: 38185.98541123708\n",
      "R2 score on test set: 0.7427671103336956\n"
     ]
    }
   ],
   "source": [
    "lasso_reg_model  = Ml_Model(lasso_reg)\n",
    "lasso_reg_model.fit_deploy()"
   ]
  },
  {
   "cell_type": "code",
   "execution_count": 438,
   "metadata": {
    "ExecuteTime": {
     "end_time": "2020-03-10T17:02:51.836941Z",
     "start_time": "2020-03-10T17:02:40.437460Z"
    }
   },
   "outputs": [
    {
     "name": "stdout",
     "output_type": "stream",
     "text": [
      "Accuracy: 80.704% (Std dev. 4.812%)\n"
     ]
    }
   ],
   "source": [
    "lasso_reg_model.cross_validation()"
   ]
  },
  {
   "cell_type": "markdown",
   "metadata": {},
   "source": [
    "<font size = '3'> What scalling is doing is that it is improving the accuracy of Lasso regression but reducing the accuracy of tree based models, so we have prepared seperate scaled datasets for Lasso Regression <font>"
   ]
  },
  {
   "cell_type": "code",
   "execution_count": 428,
   "metadata": {
    "ExecuteTime": {
     "end_time": "2020-03-10T16:34:47.479448Z",
     "start_time": "2020-03-10T16:34:47.473451Z"
    }
   },
   "outputs": [],
   "source": [
    "predictions_lasso_reg = lasso_reg_model.predictions"
   ]
  },
  {
   "cell_type": "code",
   "execution_count": 430,
   "metadata": {
    "ExecuteTime": {
     "end_time": "2020-03-10T16:47:52.761620Z",
     "start_time": "2020-03-10T16:35:28.324362Z"
    }
   },
   "outputs": [
    {
     "name": "stdout",
     "output_type": "stream",
     "text": [
      "Best Score: 0.8169286798243501\n",
      "Best Parameters: {'alpha': 0}\n"
     ]
    },
    {
     "data": {
      "text/plain": [
       "Lasso(alpha=0, copy_X=True, fit_intercept=False, max_iter=1000000,\n",
       "      normalize=True, positive=True, precompute=False, random_state=None,\n",
       "      selection='cyclic', tol=1e-06, warm_start=False)"
      ]
     },
     "execution_count": 430,
     "metadata": {},
     "output_type": "execute_result"
    }
   ],
   "source": [
    "# lasso_reg_model.Randomized_Search_CV(param_dist)"
   ]
  },
  {
   "cell_type": "code",
   "execution_count": null,
   "metadata": {
    "ExecuteTime": {
     "end_time": "2020-03-10T17:02:30.725352Z",
     "start_time": "2020-03-10T17:00:39.389Z"
    }
   },
   "outputs": [],
   "source": [
    "#  lasso_reg_model.generate_submission_file('submission_lasso')"
   ]
  },
  {
   "cell_type": "code",
   "execution_count": null,
   "metadata": {},
   "outputs": [],
   "source": []
  },
  {
   "cell_type": "markdown",
   "metadata": {},
   "source": [
    "<b>"
   ]
  },
  {
   "cell_type": "markdown",
   "metadata": {},
   "source": [
    "## Random Forest"
   ]
  },
  {
   "cell_type": "code",
   "execution_count": 407,
   "metadata": {
    "ExecuteTime": {
     "end_time": "2020-03-10T16:22:09.365717Z",
     "start_time": "2020-03-10T16:22:09.356725Z"
    }
   },
   "outputs": [
    {
     "data": {
      "text/plain": [
       "{'bootstrap': True,\n",
       " 'ccp_alpha': 0.0,\n",
       " 'criterion': 'mse',\n",
       " 'max_depth': 10,\n",
       " 'max_features': 9,\n",
       " 'max_leaf_nodes': None,\n",
       " 'max_samples': None,\n",
       " 'min_impurity_decrease': 0.0,\n",
       " 'min_impurity_split': None,\n",
       " 'min_samples_leaf': 1,\n",
       " 'min_samples_split': 6,\n",
       " 'min_weight_fraction_leaf': 0.0,\n",
       " 'n_estimators': 410,\n",
       " 'n_jobs': -1,\n",
       " 'oob_score': False,\n",
       " 'random_state': 1,\n",
       " 'verbose': 0,\n",
       " 'warm_start': False}"
      ]
     },
     "execution_count": 407,
     "metadata": {},
     "output_type": "execute_result"
    }
   ],
   "source": [
    "random_forest = RandomForestRegressor(n_estimators = 500,min_samples_split= 6 ,max_features=  10, \n",
    "                                      random_state=1, max_depth= 10, n_jobs = -1)\n",
    "random_forest.get_params()"
   ]
  },
  {
   "cell_type": "code",
   "execution_count": 408,
   "metadata": {
    "ExecuteTime": {
     "end_time": "2020-03-10T16:22:11.102718Z",
     "start_time": "2020-03-10T16:22:11.096721Z"
    }
   },
   "outputs": [],
   "source": [
    "param_dist = {\"max_depth\": [2,4, 6, 8, 10],\n",
    "             \"max_features\": range(2, 11),\n",
    "             \"min_samples_split\": range(2, 11),\n",
    "             \"n_estimators\" : range(100,1000,10)}"
   ]
  },
  {
   "cell_type": "code",
   "execution_count": null,
   "metadata": {},
   "outputs": [],
   "source": []
  },
  {
   "cell_type": "code",
   "execution_count": 409,
   "metadata": {
    "ExecuteTime": {
     "end_time": "2020-03-10T16:22:12.232933Z",
     "start_time": "2020-03-10T16:22:11.105718Z"
    }
   },
   "outputs": [
    {
     "name": "stdout",
     "output_type": "stream",
     "text": [
      "RMSE on train set: 21133.7330780265\n",
      "R2 score on train set: 0.9309216363296725\n",
      "RMSE on test set: 31678.83973542572\n",
      "R2 score on test set: 0.8229658600476899\n"
     ]
    }
   ],
   "source": [
    "random_forest_model = Ml_Model(random_forest)\n",
    "random_forest_model.fit_deploy()"
   ]
  },
  {
   "cell_type": "code",
   "execution_count": 410,
   "metadata": {
    "ExecuteTime": {
     "end_time": "2020-03-10T16:22:23.178551Z",
     "start_time": "2020-03-10T16:22:15.621210Z"
    }
   },
   "outputs": [
    {
     "name": "stdout",
     "output_type": "stream",
     "text": [
      "Accuracy: 81.929% (Std dev. 4.565%)\n"
     ]
    }
   ],
   "source": [
    "random_forest_model.cross_validation()"
   ]
  },
  {
   "cell_type": "code",
   "execution_count": 411,
   "metadata": {
    "ExecuteTime": {
     "end_time": "2020-03-10T16:26:06.211820Z",
     "start_time": "2020-03-10T16:22:24.683558Z"
    }
   },
   "outputs": [
    {
     "name": "stdout",
     "output_type": "stream",
     "text": [
      "Best Score: 0.835353161258199\n",
      "Best Parameters: {'n_estimators': 500, 'min_samples_split': 8, 'max_features': 10, 'max_depth': 10}\n"
     ]
    },
    {
     "data": {
      "text/plain": [
       "RandomForestRegressor(bootstrap=True, ccp_alpha=0.0, criterion='mse',\n",
       "                      max_depth=10, max_features=10, max_leaf_nodes=None,\n",
       "                      max_samples=None, min_impurity_decrease=0.0,\n",
       "                      min_impurity_split=None, min_samples_leaf=1,\n",
       "                      min_samples_split=8, min_weight_fraction_leaf=0.0,\n",
       "                      n_estimators=500, n_jobs=-1, oob_score=False,\n",
       "                      random_state=1, verbose=0, warm_start=False)"
      ]
     },
     "execution_count": 411,
     "metadata": {},
     "output_type": "execute_result"
    }
   ],
   "source": [
    "random_forest_model.Randomized_Search_CV(param_dist)"
   ]
  },
  {
   "cell_type": "code",
   "execution_count": null,
   "metadata": {},
   "outputs": [],
   "source": []
  },
  {
   "cell_type": "code",
   "execution_count": null,
   "metadata": {
    "ExecuteTime": {
     "end_time": "2020-03-10T15:55:26.640834Z",
     "start_time": "2020-03-10T15:55:05.181Z"
    }
   },
   "outputs": [],
   "source": [
    "predictions_random_forest = random_forest_model.predictions"
   ]
  },
  {
   "cell_type": "code",
   "execution_count": null,
   "metadata": {},
   "outputs": [],
   "source": []
  },
  {
   "cell_type": "code",
   "execution_count": 439,
   "metadata": {
    "ExecuteTime": {
     "end_time": "2020-03-11T02:37:50.532500Z",
     "start_time": "2020-03-11T02:37:50.524505Z"
    }
   },
   "outputs": [],
   "source": [
    "random_forest_model.generate_submission_file('submission_rf')"
   ]
  },
  {
   "cell_type": "markdown",
   "metadata": {},
   "source": [
    "<br>"
   ]
  },
  {
   "cell_type": "markdown",
   "metadata": {},
   "source": [
    "## Gradient Boosting "
   ]
  },
  {
   "cell_type": "code",
   "execution_count": 222,
   "metadata": {
    "ExecuteTime": {
     "end_time": "2020-03-10T14:12:20.539121Z",
     "start_time": "2020-03-10T14:12:20.534124Z"
    }
   },
   "outputs": [],
   "source": [
    "Gr_Boost = GradientBoostingRegressor(n_estimators=3000, learning_rate=0.05,\n",
    "                                   max_depth=4, max_features='sqrt',\n",
    "                                   min_samples_leaf=15, min_samples_split=10, \n",
    "                                   loss='huber', random_state =5) # Loss = 'huber' makes the Gboost algorithm robust to outliers."
   ]
  },
  {
   "cell_type": "code",
   "execution_count": 223,
   "metadata": {
    "ExecuteTime": {
     "end_time": "2020-03-10T14:12:31.252899Z",
     "start_time": "2020-03-10T14:12:21.593350Z"
    }
   },
   "outputs": [
    {
     "name": "stdout",
     "output_type": "stream",
     "text": [
      "RMSE on test set: 34378.14820514576\n",
      "R2 score on test set: 0.8492243293665306\n"
     ]
    }
   ],
   "source": [
    "Gr_Boost_model = Ml_Model(Gr_Boost)\n",
    "Gr_Boost_model.fit_deploy()"
   ]
  },
  {
   "cell_type": "code",
   "execution_count": 224,
   "metadata": {
    "ExecuteTime": {
     "end_time": "2020-03-10T14:15:20.423216Z",
     "start_time": "2020-03-10T14:13:39.749458Z"
    }
   },
   "outputs": [
    {
     "name": "stdout",
     "output_type": "stream",
     "text": [
      "Accuracy: 87.730% (Std dev. 9.429%)\n"
     ]
    }
   ],
   "source": [
    "Gr_Boost_model.cross_validation()"
   ]
  },
  {
   "cell_type": "code",
   "execution_count": 225,
   "metadata": {
    "ExecuteTime": {
     "end_time": "2020-03-10T14:15:21.613100Z",
     "start_time": "2020-03-10T14:15:21.607103Z"
    }
   },
   "outputs": [],
   "source": [
    "predictions_Gr_Boost = Gr_Boost_model.predictions"
   ]
  },
  {
   "cell_type": "markdown",
   "metadata": {},
   "source": [
    "<br>"
   ]
  },
  {
   "cell_type": "markdown",
   "metadata": {},
   "source": [
    "## XG Boost"
   ]
  },
  {
   "cell_type": "code",
   "execution_count": 229,
   "metadata": {
    "ExecuteTime": {
     "end_time": "2020-03-10T14:18:36.785906Z",
     "start_time": "2020-03-10T14:18:36.780908Z"
    }
   },
   "outputs": [],
   "source": [
    "Xg_boost =xgb.XGBRegressor(learning_rate =0.1,n_estimators=600,max_depth=5, min_child_weight=3, \n",
    "                         gamma=0.00,min_samples_split = 10)"
   ]
  },
  {
   "cell_type": "code",
   "execution_count": 230,
   "metadata": {
    "ExecuteTime": {
     "end_time": "2020-03-10T14:19:10.565372Z",
     "start_time": "2020-03-10T14:18:57.690471Z"
    }
   },
   "outputs": [
    {
     "name": "stdout",
     "output_type": "stream",
     "text": [
      "[19:48:57] WARNING: C:/Jenkins/workspace/xgboost-win64_release_0.90/src/objective/regression_obj.cu:152: reg:linear is now deprecated in favor of reg:squarederror.\n",
      "RMSE on test set: 32474.84009096707\n",
      "R2 score on test set: 0.8654572338680954\n"
     ]
    }
   ],
   "source": [
    "Xg_boost_model = Ml_Model(Xg_boost)\n",
    "Xg_boost_model.fit_deploy()"
   ]
  },
  {
   "cell_type": "code",
   "execution_count": 231,
   "metadata": {
    "ExecuteTime": {
     "end_time": "2020-03-10T14:21:14.088890Z",
     "start_time": "2020-03-10T14:19:23.982127Z"
    }
   },
   "outputs": [
    {
     "name": "stdout",
     "output_type": "stream",
     "text": [
      "[19:49:24] WARNING: C:/Jenkins/workspace/xgboost-win64_release_0.90/src/objective/regression_obj.cu:152: reg:linear is now deprecated in favor of reg:squarederror.\n",
      "[19:49:34] WARNING: C:/Jenkins/workspace/xgboost-win64_release_0.90/src/objective/regression_obj.cu:152: reg:linear is now deprecated in favor of reg:squarederror.\n",
      "[19:49:44] WARNING: C:/Jenkins/workspace/xgboost-win64_release_0.90/src/objective/regression_obj.cu:152: reg:linear is now deprecated in favor of reg:squarederror.\n",
      "[19:49:55] WARNING: C:/Jenkins/workspace/xgboost-win64_release_0.90/src/objective/regression_obj.cu:152: reg:linear is now deprecated in favor of reg:squarederror.\n",
      "[19:50:05] WARNING: C:/Jenkins/workspace/xgboost-win64_release_0.90/src/objective/regression_obj.cu:152: reg:linear is now deprecated in favor of reg:squarederror.\n",
      "[19:50:15] WARNING: C:/Jenkins/workspace/xgboost-win64_release_0.90/src/objective/regression_obj.cu:152: reg:linear is now deprecated in favor of reg:squarederror.\n",
      "[19:50:27] WARNING: C:/Jenkins/workspace/xgboost-win64_release_0.90/src/objective/regression_obj.cu:152: reg:linear is now deprecated in favor of reg:squarederror.\n",
      "[19:50:41] WARNING: C:/Jenkins/workspace/xgboost-win64_release_0.90/src/objective/regression_obj.cu:152: reg:linear is now deprecated in favor of reg:squarederror.\n",
      "[19:50:52] WARNING: C:/Jenkins/workspace/xgboost-win64_release_0.90/src/objective/regression_obj.cu:152: reg:linear is now deprecated in favor of reg:squarederror.\n",
      "[19:51:03] WARNING: C:/Jenkins/workspace/xgboost-win64_release_0.90/src/objective/regression_obj.cu:152: reg:linear is now deprecated in favor of reg:squarederror.\n",
      "Accuracy: 88.461% (Std dev. 4.878%)\n"
     ]
    }
   ],
   "source": [
    "Xg_boost_model.cross_validation()"
   ]
  },
  {
   "cell_type": "code",
   "execution_count": null,
   "metadata": {},
   "outputs": [],
   "source": []
  },
  {
   "cell_type": "code",
   "execution_count": 400,
   "metadata": {},
   "outputs": [],
   "source": [
    "Submission_Vaibhav_3T = pd.DataFrame(predictionsXG_sub, columns=['SalePrice'])"
   ]
  },
  {
   "cell_type": "code",
   "execution_count": 401,
   "metadata": {},
   "outputs": [],
   "source": [
    "dftest_submissionTuesday = pd.concat([dftestfinal,Submission_Vaibhav_3T], axis=1)"
   ]
  },
  {
   "cell_type": "code",
   "execution_count": 402,
   "metadata": {},
   "outputs": [],
   "source": [
    "dftest_submissionT = dftest_submissionTuesday[['Id','SalePrice']]"
   ]
  },
  {
   "cell_type": "code",
   "execution_count": 403,
   "metadata": {},
   "outputs": [],
   "source": [
    "dftest_submissionT.to_csv('Submission_Vaibhav_Bhatia_Tuesday',index=False)"
   ]
  },
  {
   "cell_type": "code",
   "execution_count": null,
   "metadata": {},
   "outputs": [],
   "source": []
  },
  {
   "cell_type": "code",
   "execution_count": 426,
   "metadata": {},
   "outputs": [],
   "source": [
    "predictionsRF_sub = model.predict(dftestfinal)"
   ]
  },
  {
   "cell_type": "code",
   "execution_count": 427,
   "metadata": {},
   "outputs": [],
   "source": [
    "Submission_Vaibhav_3F = pd.DataFrame(predictionsRF_sub, columns=['SalePrice'])"
   ]
  },
  {
   "cell_type": "code",
   "execution_count": 429,
   "metadata": {},
   "outputs": [],
   "source": [
    "dftest_submissionTuesdayRF = pd.concat([dftestfinal,Submission_Vaibhav_3F], axis=1)"
   ]
  },
  {
   "cell_type": "code",
   "execution_count": 430,
   "metadata": {},
   "outputs": [],
   "source": [
    "dftest_submissionF = dftest_submissionTuesdayRF[['Id','SalePrice']]"
   ]
  },
  {
   "cell_type": "code",
   "execution_count": 431,
   "metadata": {},
   "outputs": [],
   "source": [
    "dftest_submissionF.to_csv('Submission_Vaibhav_Bhatia_TuesdayRF',index=False)"
   ]
  },
  {
   "cell_type": "code",
   "execution_count": null,
   "metadata": {},
   "outputs": [],
   "source": []
  },
  {
   "cell_type": "code",
   "execution_count": null,
   "metadata": {},
   "outputs": [],
   "source": [
    "impute_outliers(all_data,numeric_cols_test)"
   ]
  },
  {
   "cell_type": "code",
   "execution_count": null,
   "metadata": {},
   "outputs": [],
   "source": [
    "# def impute_outliers(df,features): #  Takes a dataframe df of features and returns a list of the indices \n",
    "#                          #corresponding to the observations containing more than n outliers according to the Tukey method.\n",
    "    \n",
    "    \n",
    "#     for col in features:\n",
    "#         outlier_indices = []\n",
    "#         # 1st quartile (25%)\n",
    "#         Q1 = np.percentile(df[col], 25)\n",
    "#         # 3rd quartile (75%)\n",
    "#         Q3 = np.percentile(df[col],75)\n",
    "#         # Interquartile range (IQR)\n",
    "#         IQR = Q3 - Q1\n",
    "        \n",
    "#         # outlier step\n",
    "#         outlier_step = 1.5 * IQR\n",
    "#         for i in df[col]:\n",
    "#                    if [( i < Q1 - outlier_step) or (i > Q3 + outlier_step )]:\n",
    "#                        outlier_indices.append(i)\n",
    "#         df[col].replace( outlier_indices,df[col].median)"
   ]
  }
 ],
 "metadata": {
  "hide_input": false,
  "kernelspec": {
   "display_name": "Python 3",
   "language": "python",
   "name": "python3"
  },
  "language_info": {
   "codemirror_mode": {
    "name": "ipython",
    "version": 3
   },
   "file_extension": ".py",
   "mimetype": "text/x-python",
   "name": "python",
   "nbconvert_exporter": "python",
   "pygments_lexer": "ipython3",
   "version": "3.7.1"
  },
  "toc": {
   "base_numbering": 1,
   "nav_menu": {},
   "number_sections": false,
   "sideBar": true,
   "skip_h1_title": false,
   "title_cell": "Table of Contents",
   "title_sidebar": "Contents",
   "toc_cell": false,
   "toc_position": {
    "height": "calc(100% - 180px)",
    "left": "10px",
    "top": "150px",
    "width": "303.542px"
   },
   "toc_section_display": true,
   "toc_window_display": false
  },
  "varInspector": {
   "cols": {
    "lenName": 16,
    "lenType": 16,
    "lenVar": 40
   },
   "kernels_config": {
    "python": {
     "delete_cmd_postfix": "",
     "delete_cmd_prefix": "del ",
     "library": "var_list.py",
     "varRefreshCmd": "print(var_dic_list())"
    },
    "r": {
     "delete_cmd_postfix": ") ",
     "delete_cmd_prefix": "rm(",
     "library": "var_list.r",
     "varRefreshCmd": "cat(var_dic_list()) "
    }
   },
   "types_to_exclude": [
    "module",
    "function",
    "builtin_function_or_method",
    "instance",
    "_Feature"
   ],
   "window_display": false
  }
 },
 "nbformat": 4,
 "nbformat_minor": 2
}
